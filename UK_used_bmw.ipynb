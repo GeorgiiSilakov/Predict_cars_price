{
 "cells": [
  {
   "cell_type": "markdown",
   "metadata": {},
   "source": [
    "Ссылка на датасет - https://www.kaggle.com/datasets/adityadesai13/used-car-dataset-ford-and-mercedes?resource=download"
   ]
  },
  {
   "cell_type": "markdown",
   "metadata": {},
   "source": [
    "Цель:\n",
    "Разработка алгоритма определения цены автомобиля, по параметрам которые присутствуют в данных"
   ]
  },
  {
   "cell_type": "code",
   "execution_count": 154,
   "metadata": {},
   "outputs": [],
   "source": [
    "import pandas as pd\n",
    "import numpy as np\n",
    "from sklearn.model_selection import train_test_split\n",
    "import matplotlib.pyplot as plt\n",
    "plt.style.use('dark_background')\n",
    "import seaborn as sns\n"
   ]
  },
  {
   "cell_type": "code",
   "execution_count": 155,
   "metadata": {},
   "outputs": [],
   "source": [
    "df = pd.read_csv('archive/bmw.csv')\n"
   ]
  },
  {
   "cell_type": "code",
   "execution_count": 3,
   "metadata": {},
   "outputs": [
    {
     "data": {
      "text/html": [
       "<div>\n",
       "<style scoped>\n",
       "    .dataframe tbody tr th:only-of-type {\n",
       "        vertical-align: middle;\n",
       "    }\n",
       "\n",
       "    .dataframe tbody tr th {\n",
       "        vertical-align: top;\n",
       "    }\n",
       "\n",
       "    .dataframe thead th {\n",
       "        text-align: right;\n",
       "    }\n",
       "</style>\n",
       "<table border=\"1\" class=\"dataframe\">\n",
       "  <thead>\n",
       "    <tr style=\"text-align: right;\">\n",
       "      <th></th>\n",
       "      <th>model</th>\n",
       "      <th>year</th>\n",
       "      <th>price</th>\n",
       "      <th>transmission</th>\n",
       "      <th>mileage</th>\n",
       "      <th>fuelType</th>\n",
       "      <th>tax</th>\n",
       "      <th>mpg</th>\n",
       "      <th>engineSize</th>\n",
       "    </tr>\n",
       "  </thead>\n",
       "  <tbody>\n",
       "    <tr>\n",
       "      <th>0</th>\n",
       "      <td>5 Series</td>\n",
       "      <td>2014</td>\n",
       "      <td>11200</td>\n",
       "      <td>Automatic</td>\n",
       "      <td>67068</td>\n",
       "      <td>Diesel</td>\n",
       "      <td>125</td>\n",
       "      <td>57.6</td>\n",
       "      <td>2.0</td>\n",
       "    </tr>\n",
       "    <tr>\n",
       "      <th>1</th>\n",
       "      <td>6 Series</td>\n",
       "      <td>2018</td>\n",
       "      <td>27000</td>\n",
       "      <td>Automatic</td>\n",
       "      <td>14827</td>\n",
       "      <td>Petrol</td>\n",
       "      <td>145</td>\n",
       "      <td>42.8</td>\n",
       "      <td>2.0</td>\n",
       "    </tr>\n",
       "    <tr>\n",
       "      <th>2</th>\n",
       "      <td>5 Series</td>\n",
       "      <td>2016</td>\n",
       "      <td>16000</td>\n",
       "      <td>Automatic</td>\n",
       "      <td>62794</td>\n",
       "      <td>Diesel</td>\n",
       "      <td>160</td>\n",
       "      <td>51.4</td>\n",
       "      <td>3.0</td>\n",
       "    </tr>\n",
       "    <tr>\n",
       "      <th>3</th>\n",
       "      <td>1 Series</td>\n",
       "      <td>2017</td>\n",
       "      <td>12750</td>\n",
       "      <td>Automatic</td>\n",
       "      <td>26676</td>\n",
       "      <td>Diesel</td>\n",
       "      <td>145</td>\n",
       "      <td>72.4</td>\n",
       "      <td>1.5</td>\n",
       "    </tr>\n",
       "    <tr>\n",
       "      <th>4</th>\n",
       "      <td>7 Series</td>\n",
       "      <td>2014</td>\n",
       "      <td>14500</td>\n",
       "      <td>Automatic</td>\n",
       "      <td>39554</td>\n",
       "      <td>Diesel</td>\n",
       "      <td>160</td>\n",
       "      <td>50.4</td>\n",
       "      <td>3.0</td>\n",
       "    </tr>\n",
       "  </tbody>\n",
       "</table>\n",
       "</div>"
      ],
      "text/plain": [
       "       model  year  price transmission  mileage fuelType  tax   mpg  \\\n",
       "0   5 Series  2014  11200    Automatic    67068   Diesel  125  57.6   \n",
       "1   6 Series  2018  27000    Automatic    14827   Petrol  145  42.8   \n",
       "2   5 Series  2016  16000    Automatic    62794   Diesel  160  51.4   \n",
       "3   1 Series  2017  12750    Automatic    26676   Diesel  145  72.4   \n",
       "4   7 Series  2014  14500    Automatic    39554   Diesel  160  50.4   \n",
       "\n",
       "   engineSize  \n",
       "0         2.0  \n",
       "1         2.0  \n",
       "2         3.0  \n",
       "3         1.5  \n",
       "4         3.0  "
      ]
     },
     "execution_count": 3,
     "metadata": {},
     "output_type": "execute_result"
    }
   ],
   "source": [
    "df.head()\n"
   ]
  },
  {
   "cell_type": "markdown",
   "metadata": {},
   "source": [
    "Разделим данные на обучающую и тестовая выборки(train and test)"
   ]
  },
  {
   "cell_type": "code",
   "execution_count": 156,
   "metadata": {},
   "outputs": [],
   "source": [
    "train, test = train_test_split(df, random_state=42)\n",
    "#random_state указывается, чтобы выборки не менялись при перезапуске\n"
   ]
  },
  {
   "cell_type": "code",
   "execution_count": 157,
   "metadata": {},
   "outputs": [
    {
     "data": {
      "text/html": [
       "<div>\n",
       "<style scoped>\n",
       "    .dataframe tbody tr th:only-of-type {\n",
       "        vertical-align: middle;\n",
       "    }\n",
       "\n",
       "    .dataframe tbody tr th {\n",
       "        vertical-align: top;\n",
       "    }\n",
       "\n",
       "    .dataframe thead th {\n",
       "        text-align: right;\n",
       "    }\n",
       "</style>\n",
       "<table border=\"1\" class=\"dataframe\">\n",
       "  <thead>\n",
       "    <tr style=\"text-align: right;\">\n",
       "      <th></th>\n",
       "      <th>model</th>\n",
       "      <th>year</th>\n",
       "      <th>price</th>\n",
       "      <th>transmission</th>\n",
       "      <th>mileage</th>\n",
       "      <th>fuelType</th>\n",
       "      <th>tax</th>\n",
       "      <th>mpg</th>\n",
       "      <th>engineSize</th>\n",
       "    </tr>\n",
       "  </thead>\n",
       "  <tbody>\n",
       "    <tr>\n",
       "      <th>930</th>\n",
       "      <td>5 Series</td>\n",
       "      <td>2013</td>\n",
       "      <td>12791</td>\n",
       "      <td>Semi-Auto</td>\n",
       "      <td>55642</td>\n",
       "      <td>Diesel</td>\n",
       "      <td>145</td>\n",
       "      <td>55.4</td>\n",
       "      <td>2.0</td>\n",
       "    </tr>\n",
       "    <tr>\n",
       "      <th>4052</th>\n",
       "      <td>1 Series</td>\n",
       "      <td>2019</td>\n",
       "      <td>23995</td>\n",
       "      <td>Semi-Auto</td>\n",
       "      <td>1527</td>\n",
       "      <td>Petrol</td>\n",
       "      <td>145</td>\n",
       "      <td>43.5</td>\n",
       "      <td>1.5</td>\n",
       "    </tr>\n",
       "    <tr>\n",
       "      <th>1197</th>\n",
       "      <td>X5</td>\n",
       "      <td>2015</td>\n",
       "      <td>25995</td>\n",
       "      <td>Automatic</td>\n",
       "      <td>43344</td>\n",
       "      <td>Diesel</td>\n",
       "      <td>200</td>\n",
       "      <td>47.1</td>\n",
       "      <td>3.0</td>\n",
       "    </tr>\n",
       "    <tr>\n",
       "      <th>7893</th>\n",
       "      <td>2 Series</td>\n",
       "      <td>2019</td>\n",
       "      <td>25000</td>\n",
       "      <td>Automatic</td>\n",
       "      <td>4000</td>\n",
       "      <td>Petrol</td>\n",
       "      <td>145</td>\n",
       "      <td>47.9</td>\n",
       "      <td>2.0</td>\n",
       "    </tr>\n",
       "    <tr>\n",
       "      <th>7571</th>\n",
       "      <td>1 Series</td>\n",
       "      <td>2015</td>\n",
       "      <td>10950</td>\n",
       "      <td>Manual</td>\n",
       "      <td>33000</td>\n",
       "      <td>Diesel</td>\n",
       "      <td>20</td>\n",
       "      <td>72.4</td>\n",
       "      <td>1.5</td>\n",
       "    </tr>\n",
       "    <tr>\n",
       "      <th>...</th>\n",
       "      <td>...</td>\n",
       "      <td>...</td>\n",
       "      <td>...</td>\n",
       "      <td>...</td>\n",
       "      <td>...</td>\n",
       "      <td>...</td>\n",
       "      <td>...</td>\n",
       "      <td>...</td>\n",
       "      <td>...</td>\n",
       "    </tr>\n",
       "    <tr>\n",
       "      <th>5734</th>\n",
       "      <td>3 Series</td>\n",
       "      <td>2018</td>\n",
       "      <td>17995</td>\n",
       "      <td>Semi-Auto</td>\n",
       "      <td>40456</td>\n",
       "      <td>Diesel</td>\n",
       "      <td>145</td>\n",
       "      <td>64.2</td>\n",
       "      <td>2.0</td>\n",
       "    </tr>\n",
       "    <tr>\n",
       "      <th>5191</th>\n",
       "      <td>1 Series</td>\n",
       "      <td>2016</td>\n",
       "      <td>19950</td>\n",
       "      <td>Semi-Auto</td>\n",
       "      <td>23210</td>\n",
       "      <td>Petrol</td>\n",
       "      <td>200</td>\n",
       "      <td>39.8</td>\n",
       "      <td>3.0</td>\n",
       "    </tr>\n",
       "    <tr>\n",
       "      <th>5390</th>\n",
       "      <td>X2</td>\n",
       "      <td>2019</td>\n",
       "      <td>25450</td>\n",
       "      <td>Semi-Auto</td>\n",
       "      <td>5652</td>\n",
       "      <td>Diesel</td>\n",
       "      <td>145</td>\n",
       "      <td>47.9</td>\n",
       "      <td>2.0</td>\n",
       "    </tr>\n",
       "    <tr>\n",
       "      <th>860</th>\n",
       "      <td>X1</td>\n",
       "      <td>2016</td>\n",
       "      <td>19850</td>\n",
       "      <td>Semi-Auto</td>\n",
       "      <td>14542</td>\n",
       "      <td>Diesel</td>\n",
       "      <td>125</td>\n",
       "      <td>60.1</td>\n",
       "      <td>2.0</td>\n",
       "    </tr>\n",
       "    <tr>\n",
       "      <th>7270</th>\n",
       "      <td>1 Series</td>\n",
       "      <td>2016</td>\n",
       "      <td>15745</td>\n",
       "      <td>Automatic</td>\n",
       "      <td>17237</td>\n",
       "      <td>Petrol</td>\n",
       "      <td>125</td>\n",
       "      <td>54.3</td>\n",
       "      <td>1.5</td>\n",
       "    </tr>\n",
       "  </tbody>\n",
       "</table>\n",
       "<p>8085 rows × 9 columns</p>\n",
       "</div>"
      ],
      "text/plain": [
       "          model  year  price transmission  mileage fuelType  tax   mpg  \\\n",
       "930    5 Series  2013  12791    Semi-Auto    55642   Diesel  145  55.4   \n",
       "4052   1 Series  2019  23995    Semi-Auto     1527   Petrol  145  43.5   \n",
       "1197         X5  2015  25995    Automatic    43344   Diesel  200  47.1   \n",
       "7893   2 Series  2019  25000    Automatic     4000   Petrol  145  47.9   \n",
       "7571   1 Series  2015  10950       Manual    33000   Diesel   20  72.4   \n",
       "...         ...   ...    ...          ...      ...      ...  ...   ...   \n",
       "5734   3 Series  2018  17995    Semi-Auto    40456   Diesel  145  64.2   \n",
       "5191   1 Series  2016  19950    Semi-Auto    23210   Petrol  200  39.8   \n",
       "5390         X2  2019  25450    Semi-Auto     5652   Diesel  145  47.9   \n",
       "860          X1  2016  19850    Semi-Auto    14542   Diesel  125  60.1   \n",
       "7270   1 Series  2016  15745    Automatic    17237   Petrol  125  54.3   \n",
       "\n",
       "      engineSize  \n",
       "930          2.0  \n",
       "4052         1.5  \n",
       "1197         3.0  \n",
       "7893         2.0  \n",
       "7571         1.5  \n",
       "...          ...  \n",
       "5734         2.0  \n",
       "5191         3.0  \n",
       "5390         2.0  \n",
       "860          2.0  \n",
       "7270         1.5  \n",
       "\n",
       "[8085 rows x 9 columns]"
      ]
     },
     "execution_count": 157,
     "metadata": {},
     "output_type": "execute_result"
    }
   ],
   "source": [
    "train\n"
   ]
  },
  {
   "cell_type": "code",
   "execution_count": 158,
   "metadata": {},
   "outputs": [
    {
     "data": {
      "text/html": [
       "<div>\n",
       "<style scoped>\n",
       "    .dataframe tbody tr th:only-of-type {\n",
       "        vertical-align: middle;\n",
       "    }\n",
       "\n",
       "    .dataframe tbody tr th {\n",
       "        vertical-align: top;\n",
       "    }\n",
       "\n",
       "    .dataframe thead th {\n",
       "        text-align: right;\n",
       "    }\n",
       "</style>\n",
       "<table border=\"1\" class=\"dataframe\">\n",
       "  <thead>\n",
       "    <tr style=\"text-align: right;\">\n",
       "      <th></th>\n",
       "      <th>model</th>\n",
       "      <th>year</th>\n",
       "      <th>price</th>\n",
       "      <th>transmission</th>\n",
       "      <th>mileage</th>\n",
       "      <th>fuelType</th>\n",
       "      <th>tax</th>\n",
       "      <th>mpg</th>\n",
       "      <th>engineSize</th>\n",
       "    </tr>\n",
       "  </thead>\n",
       "  <tbody>\n",
       "    <tr>\n",
       "      <th>8728</th>\n",
       "      <td>1 Series</td>\n",
       "      <td>2018</td>\n",
       "      <td>15300</td>\n",
       "      <td>Manual</td>\n",
       "      <td>36469</td>\n",
       "      <td>Diesel</td>\n",
       "      <td>150</td>\n",
       "      <td>50.4</td>\n",
       "      <td>1.5</td>\n",
       "    </tr>\n",
       "    <tr>\n",
       "      <th>761</th>\n",
       "      <td>5 Series</td>\n",
       "      <td>2014</td>\n",
       "      <td>15495</td>\n",
       "      <td>Semi-Auto</td>\n",
       "      <td>51565</td>\n",
       "      <td>Diesel</td>\n",
       "      <td>160</td>\n",
       "      <td>51.4</td>\n",
       "      <td>2.0</td>\n",
       "    </tr>\n",
       "    <tr>\n",
       "      <th>7209</th>\n",
       "      <td>X3</td>\n",
       "      <td>2019</td>\n",
       "      <td>39875</td>\n",
       "      <td>Semi-Auto</td>\n",
       "      <td>8988</td>\n",
       "      <td>Diesel</td>\n",
       "      <td>150</td>\n",
       "      <td>36.7</td>\n",
       "      <td>3.0</td>\n",
       "    </tr>\n",
       "    <tr>\n",
       "      <th>6685</th>\n",
       "      <td>2 Series</td>\n",
       "      <td>2019</td>\n",
       "      <td>21730</td>\n",
       "      <td>Automatic</td>\n",
       "      <td>5054</td>\n",
       "      <td>Petrol</td>\n",
       "      <td>145</td>\n",
       "      <td>39.2</td>\n",
       "      <td>1.5</td>\n",
       "    </tr>\n",
       "    <tr>\n",
       "      <th>8548</th>\n",
       "      <td>2 Series</td>\n",
       "      <td>2018</td>\n",
       "      <td>13799</td>\n",
       "      <td>Manual</td>\n",
       "      <td>13369</td>\n",
       "      <td>Diesel</td>\n",
       "      <td>145</td>\n",
       "      <td>65.7</td>\n",
       "      <td>1.5</td>\n",
       "    </tr>\n",
       "    <tr>\n",
       "      <th>...</th>\n",
       "      <td>...</td>\n",
       "      <td>...</td>\n",
       "      <td>...</td>\n",
       "      <td>...</td>\n",
       "      <td>...</td>\n",
       "      <td>...</td>\n",
       "      <td>...</td>\n",
       "      <td>...</td>\n",
       "      <td>...</td>\n",
       "    </tr>\n",
       "    <tr>\n",
       "      <th>9825</th>\n",
       "      <td>4 Series</td>\n",
       "      <td>2019</td>\n",
       "      <td>25500</td>\n",
       "      <td>Automatic</td>\n",
       "      <td>3250</td>\n",
       "      <td>Petrol</td>\n",
       "      <td>145</td>\n",
       "      <td>48.7</td>\n",
       "      <td>2.0</td>\n",
       "    </tr>\n",
       "    <tr>\n",
       "      <th>3522</th>\n",
       "      <td>7 Series</td>\n",
       "      <td>2019</td>\n",
       "      <td>52700</td>\n",
       "      <td>Semi-Auto</td>\n",
       "      <td>706</td>\n",
       "      <td>Diesel</td>\n",
       "      <td>145</td>\n",
       "      <td>44.1</td>\n",
       "      <td>3.0</td>\n",
       "    </tr>\n",
       "    <tr>\n",
       "      <th>9757</th>\n",
       "      <td>3 Series</td>\n",
       "      <td>2017</td>\n",
       "      <td>15795</td>\n",
       "      <td>Automatic</td>\n",
       "      <td>64000</td>\n",
       "      <td>Hybrid</td>\n",
       "      <td>0</td>\n",
       "      <td>134.5</td>\n",
       "      <td>2.0</td>\n",
       "    </tr>\n",
       "    <tr>\n",
       "      <th>6100</th>\n",
       "      <td>4 Series</td>\n",
       "      <td>2019</td>\n",
       "      <td>29840</td>\n",
       "      <td>Automatic</td>\n",
       "      <td>6000</td>\n",
       "      <td>Diesel</td>\n",
       "      <td>145</td>\n",
       "      <td>60.1</td>\n",
       "      <td>2.0</td>\n",
       "    </tr>\n",
       "    <tr>\n",
       "      <th>3946</th>\n",
       "      <td>4 Series</td>\n",
       "      <td>2020</td>\n",
       "      <td>34980</td>\n",
       "      <td>Semi-Auto</td>\n",
       "      <td>1000</td>\n",
       "      <td>Petrol</td>\n",
       "      <td>145</td>\n",
       "      <td>48.7</td>\n",
       "      <td>2.0</td>\n",
       "    </tr>\n",
       "  </tbody>\n",
       "</table>\n",
       "<p>2696 rows × 9 columns</p>\n",
       "</div>"
      ],
      "text/plain": [
       "          model  year  price transmission  mileage fuelType  tax    mpg  \\\n",
       "8728   1 Series  2018  15300       Manual    36469   Diesel  150   50.4   \n",
       "761    5 Series  2014  15495    Semi-Auto    51565   Diesel  160   51.4   \n",
       "7209         X3  2019  39875    Semi-Auto     8988   Diesel  150   36.7   \n",
       "6685   2 Series  2019  21730    Automatic     5054   Petrol  145   39.2   \n",
       "8548   2 Series  2018  13799       Manual    13369   Diesel  145   65.7   \n",
       "...         ...   ...    ...          ...      ...      ...  ...    ...   \n",
       "9825   4 Series  2019  25500    Automatic     3250   Petrol  145   48.7   \n",
       "3522   7 Series  2019  52700    Semi-Auto      706   Diesel  145   44.1   \n",
       "9757   3 Series  2017  15795    Automatic    64000   Hybrid    0  134.5   \n",
       "6100   4 Series  2019  29840    Automatic     6000   Diesel  145   60.1   \n",
       "3946   4 Series  2020  34980    Semi-Auto     1000   Petrol  145   48.7   \n",
       "\n",
       "      engineSize  \n",
       "8728         1.5  \n",
       "761          2.0  \n",
       "7209         3.0  \n",
       "6685         1.5  \n",
       "8548         1.5  \n",
       "...          ...  \n",
       "9825         2.0  \n",
       "3522         3.0  \n",
       "9757         2.0  \n",
       "6100         2.0  \n",
       "3946         2.0  \n",
       "\n",
       "[2696 rows x 9 columns]"
      ]
     },
     "execution_count": 158,
     "metadata": {},
     "output_type": "execute_result"
    }
   ],
   "source": [
    "test\n"
   ]
  },
  {
   "cell_type": "code",
   "execution_count": 159,
   "metadata": {},
   "outputs": [
    {
     "data": {
      "text/plain": [
       "0.2500695668305352"
      ]
     },
     "execution_count": 159,
     "metadata": {},
     "output_type": "execute_result"
    }
   ],
   "source": [
    "len(test) / len(df)\n"
   ]
  },
  {
   "cell_type": "markdown",
   "metadata": {},
   "source": [
    "На тестовые данные выделено 25% данных"
   ]
  },
  {
   "cell_type": "code",
   "execution_count": 160,
   "metadata": {},
   "outputs": [
    {
     "data": {
      "text/plain": [
       "model           0.0\n",
       "year            0.0\n",
       "price           0.0\n",
       "transmission    0.0\n",
       "mileage         0.0\n",
       "fuelType        0.0\n",
       "tax             0.0\n",
       "mpg             0.0\n",
       "engineSize      0.0\n",
       "dtype: float64"
      ]
     },
     "execution_count": 160,
     "metadata": {},
     "output_type": "execute_result"
    }
   ],
   "source": [
    "df.isna().mean()\n"
   ]
  },
  {
   "cell_type": "markdown",
   "metadata": {},
   "source": [
    "Пропусков в данных нет"
   ]
  },
  {
   "cell_type": "markdown",
   "metadata": {},
   "source": [
    "Посмотрим на распределение стоимости автомобилей"
   ]
  },
  {
   "cell_type": "code",
   "execution_count": 161,
   "metadata": {},
   "outputs": [
    {
     "data": {
      "text/plain": [
       "<Axes: >"
      ]
     },
     "execution_count": 161,
     "metadata": {},
     "output_type": "execute_result"
    },
    {
     "data": {
      "image/png": "[encoded data removed]",
      "text/plain": [
       "<Figure size 640x480 with 1 Axes>"
      ]
     },
     "metadata": {},
     "output_type": "display_data"
    }
   ],
   "source": [
    "train['price'].hist()\n"
   ]
  },
  {
   "cell_type": "code",
   "execution_count": 162,
   "metadata": {},
   "outputs": [
    {
     "data": {
      "text/plain": [
       "count      8085.000000\n",
       "mean      22668.821645\n",
       "std       11469.825387\n",
       "min        1445.000000\n",
       "25%       14800.000000\n",
       "50%       20022.000000\n",
       "75%       27850.000000\n",
       "max      123456.000000\n",
       "Name: price, dtype: float64"
      ]
     },
     "execution_count": 162,
     "metadata": {},
     "output_type": "execute_result"
    }
   ],
   "source": [
    "train['price'].describe()\n"
   ]
  },
  {
   "cell_type": "markdown",
   "metadata": {},
   "source": [
    "Медианная стоимость автомобилей в районе 20 000, но есть авто, которые стоят дороже 120 000"
   ]
  },
  {
   "cell_type": "markdown",
   "metadata": {},
   "source": [
    "Посмотрим на взаимосвязь между годом авто и его ценой"
   ]
  },
  {
   "cell_type": "code",
   "execution_count": 163,
   "metadata": {},
   "outputs": [
    {
     "data": {
      "text/html": [
       "<div>\n",
       "<style scoped>\n",
       "    .dataframe tbody tr th:only-of-type {\n",
       "        vertical-align: middle;\n",
       "    }\n",
       "\n",
       "    .dataframe tbody tr th {\n",
       "        vertical-align: top;\n",
       "    }\n",
       "\n",
       "    .dataframe thead th {\n",
       "        text-align: right;\n",
       "    }\n",
       "</style>\n",
       "<table border=\"1\" class=\"dataframe\">\n",
       "  <thead>\n",
       "    <tr style=\"text-align: right;\">\n",
       "      <th></th>\n",
       "      <th>count</th>\n",
       "      <th>mean</th>\n",
       "      <th>median</th>\n",
       "    </tr>\n",
       "    <tr>\n",
       "      <th>year</th>\n",
       "      <th></th>\n",
       "      <th></th>\n",
       "      <th></th>\n",
       "    </tr>\n",
       "  </thead>\n",
       "  <tbody>\n",
       "    <tr>\n",
       "      <th>1996</th>\n",
       "      <td>1</td>\n",
       "      <td>5995.000000</td>\n",
       "      <td>5995.0</td>\n",
       "    </tr>\n",
       "    <tr>\n",
       "      <th>1997</th>\n",
       "      <td>1</td>\n",
       "      <td>3950.000000</td>\n",
       "      <td>3950.0</td>\n",
       "    </tr>\n",
       "    <tr>\n",
       "      <th>1998</th>\n",
       "      <td>1</td>\n",
       "      <td>3950.000000</td>\n",
       "      <td>3950.0</td>\n",
       "    </tr>\n",
       "    <tr>\n",
       "      <th>1999</th>\n",
       "      <td>3</td>\n",
       "      <td>3980.000000</td>\n",
       "      <td>3995.0</td>\n",
       "    </tr>\n",
       "    <tr>\n",
       "      <th>2000</th>\n",
       "      <td>1</td>\n",
       "      <td>1550.000000</td>\n",
       "      <td>1550.0</td>\n",
       "    </tr>\n",
       "    <tr>\n",
       "      <th>2001</th>\n",
       "      <td>3</td>\n",
       "      <td>7333.333333</td>\n",
       "      <td>5950.0</td>\n",
       "    </tr>\n",
       "    <tr>\n",
       "      <th>2002</th>\n",
       "      <td>4</td>\n",
       "      <td>3893.500000</td>\n",
       "      <td>3494.5</td>\n",
       "    </tr>\n",
       "    <tr>\n",
       "      <th>2003</th>\n",
       "      <td>2</td>\n",
       "      <td>9222.500000</td>\n",
       "      <td>9222.5</td>\n",
       "    </tr>\n",
       "    <tr>\n",
       "      <th>2004</th>\n",
       "      <td>7</td>\n",
       "      <td>7932.857143</td>\n",
       "      <td>3495.0</td>\n",
       "    </tr>\n",
       "    <tr>\n",
       "      <th>2005</th>\n",
       "      <td>6</td>\n",
       "      <td>5390.166667</td>\n",
       "      <td>4685.0</td>\n",
       "    </tr>\n",
       "    <tr>\n",
       "      <th>2006</th>\n",
       "      <td>12</td>\n",
       "      <td>5445.250000</td>\n",
       "      <td>3942.5</td>\n",
       "    </tr>\n",
       "    <tr>\n",
       "      <th>2007</th>\n",
       "      <td>12</td>\n",
       "      <td>5027.833333</td>\n",
       "      <td>4597.5</td>\n",
       "    </tr>\n",
       "    <tr>\n",
       "      <th>2008</th>\n",
       "      <td>18</td>\n",
       "      <td>6004.666667</td>\n",
       "      <td>5272.5</td>\n",
       "    </tr>\n",
       "    <tr>\n",
       "      <th>2009</th>\n",
       "      <td>22</td>\n",
       "      <td>6506.090909</td>\n",
       "      <td>5845.0</td>\n",
       "    </tr>\n",
       "    <tr>\n",
       "      <th>2010</th>\n",
       "      <td>31</td>\n",
       "      <td>7374.129032</td>\n",
       "      <td>6495.0</td>\n",
       "    </tr>\n",
       "    <tr>\n",
       "      <th>2011</th>\n",
       "      <td>37</td>\n",
       "      <td>8860.297297</td>\n",
       "      <td>8470.0</td>\n",
       "    </tr>\n",
       "    <tr>\n",
       "      <th>2012</th>\n",
       "      <td>92</td>\n",
       "      <td>9432.923913</td>\n",
       "      <td>8990.0</td>\n",
       "    </tr>\n",
       "    <tr>\n",
       "      <th>2013</th>\n",
       "      <td>253</td>\n",
       "      <td>11041.347826</td>\n",
       "      <td>10490.0</td>\n",
       "    </tr>\n",
       "    <tr>\n",
       "      <th>2014</th>\n",
       "      <td>384</td>\n",
       "      <td>13411.333333</td>\n",
       "      <td>12797.5</td>\n",
       "    </tr>\n",
       "    <tr>\n",
       "      <th>2015</th>\n",
       "      <td>716</td>\n",
       "      <td>15086.536313</td>\n",
       "      <td>14103.5</td>\n",
       "    </tr>\n",
       "    <tr>\n",
       "      <th>2016</th>\n",
       "      <td>1398</td>\n",
       "      <td>16531.655222</td>\n",
       "      <td>15699.5</td>\n",
       "    </tr>\n",
       "    <tr>\n",
       "      <th>2017</th>\n",
       "      <td>1296</td>\n",
       "      <td>19205.839506</td>\n",
       "      <td>18299.5</td>\n",
       "    </tr>\n",
       "    <tr>\n",
       "      <th>2018</th>\n",
       "      <td>635</td>\n",
       "      <td>22562.450394</td>\n",
       "      <td>21000.0</td>\n",
       "    </tr>\n",
       "    <tr>\n",
       "      <th>2019</th>\n",
       "      <td>2598</td>\n",
       "      <td>31066.986143</td>\n",
       "      <td>27980.0</td>\n",
       "    </tr>\n",
       "    <tr>\n",
       "      <th>2020</th>\n",
       "      <td>552</td>\n",
       "      <td>35359.445652</td>\n",
       "      <td>32450.5</td>\n",
       "    </tr>\n",
       "  </tbody>\n",
       "</table>\n",
       "</div>"
      ],
      "text/plain": [
       "      count          mean   median\n",
       "year                              \n",
       "1996      1   5995.000000   5995.0\n",
       "1997      1   3950.000000   3950.0\n",
       "1998      1   3950.000000   3950.0\n",
       "1999      3   3980.000000   3995.0\n",
       "2000      1   1550.000000   1550.0\n",
       "2001      3   7333.333333   5950.0\n",
       "2002      4   3893.500000   3494.5\n",
       "2003      2   9222.500000   9222.5\n",
       "2004      7   7932.857143   3495.0\n",
       "2005      6   5390.166667   4685.0\n",
       "2006     12   5445.250000   3942.5\n",
       "2007     12   5027.833333   4597.5\n",
       "2008     18   6004.666667   5272.5\n",
       "2009     22   6506.090909   5845.0\n",
       "2010     31   7374.129032   6495.0\n",
       "2011     37   8860.297297   8470.0\n",
       "2012     92   9432.923913   8990.0\n",
       "2013    253  11041.347826  10490.0\n",
       "2014    384  13411.333333  12797.5\n",
       "2015    716  15086.536313  14103.5\n",
       "2016   1398  16531.655222  15699.5\n",
       "2017   1296  19205.839506  18299.5\n",
       "2018    635  22562.450394  21000.0\n",
       "2019   2598  31066.986143  27980.0\n",
       "2020    552  35359.445652  32450.5"
      ]
     },
     "execution_count": 163,
     "metadata": {},
     "output_type": "execute_result"
    }
   ],
   "source": [
    "train.groupby('year')['price'].agg(['count', 'mean', 'median'])\n"
   ]
  },
  {
   "cell_type": "code",
   "execution_count": 164,
   "metadata": {},
   "outputs": [
    {
     "data": {
      "text/plain": [
       "<Axes: xlabel='year'>"
      ]
     },
     "execution_count": 164,
     "metadata": {},
     "output_type": "execute_result"
    },
    {
     "data": {
      "image/png": "[encoded data removed]",
      "text/plain": [
       "<Figure size 640x480 with 1 Axes>"
      ]
     },
     "metadata": {},
     "output_type": "display_data"
    }
   ],
   "source": [
    "train.groupby('year')['price'].median().plot()\n"
   ]
  },
  {
   "cell_type": "markdown",
   "metadata": {},
   "source": [
    "На графике мы можем видеть, что чем новее авто, тем оно дороже"
   ]
  },
  {
   "cell_type": "markdown",
   "metadata": {},
   "source": [
    "Возьмем за baseline медианное значение стоимости, от которого будем стараться улучшить точность модели"
   ]
  },
  {
   "cell_type": "code",
   "execution_count": 165,
   "metadata": {},
   "outputs": [],
   "source": [
    "train['price_pred_median'] = train['price'].median()\n"
   ]
  },
  {
   "cell_type": "markdown",
   "metadata": {},
   "source": [
    "Посмотрим среднее отклнение медианной стоимости автомобилей от фактической стоимости"
   ]
  },
  {
   "cell_type": "code",
   "execution_count": 166,
   "metadata": {},
   "outputs": [],
   "source": [
    "from sklearn.metrics import mean_absolute_error, mean_absolute_percentage_error\n"
   ]
  },
  {
   "cell_type": "code",
   "execution_count": 167,
   "metadata": {},
   "outputs": [],
   "source": [
    "def error(y_true, y_pred):\n",
    "    print(mean_absolute_error(y_true, y_pred))\n",
    "    print(mean_absolute_percentage_error(y_true, y_pred))\n"
   ]
  },
  {
   "cell_type": "code",
   "execution_count": 168,
   "metadata": {},
   "outputs": [
    {
     "name": "stdout",
     "output_type": "stream",
     "text": [
      "8220.5146567718\n",
      "0.41711111879393314\n"
     ]
    }
   ],
   "source": [
    "error(train['price'], train['price_pred_median'])\n"
   ]
  },
  {
   "cell_type": "markdown",
   "metadata": {},
   "source": [
    "Модель на тренировочных данных ошибается в среднем на 41.7%, что очень много:)"
   ]
  },
  {
   "cell_type": "markdown",
   "metadata": {},
   "source": [
    "Посмотрим на ошибку на тестовых данных"
   ]
  },
  {
   "cell_type": "code",
   "execution_count": 169,
   "metadata": {},
   "outputs": [],
   "source": [
    "test['price_pred_median'] = train['price'].median()\n"
   ]
  },
  {
   "cell_type": "code",
   "execution_count": 170,
   "metadata": {},
   "outputs": [
    {
     "name": "stdout",
     "output_type": "stream",
     "text": [
      "8211.845697329376\n",
      "0.409212791738344\n"
     ]
    }
   ],
   "source": [
    "error(test['price'], test['price_pred_median'])\n"
   ]
  },
  {
   "cell_type": "markdown",
   "metadata": {},
   "source": [
    "На тестовых данных получаем примерно такой же результат"
   ]
  },
  {
   "cell_type": "markdown",
   "metadata": {},
   "source": [
    "Алгоритм на основе года"
   ]
  },
  {
   "cell_type": "markdown",
   "metadata": {},
   "source": [
    "Создадим модель со средней стоимостью авто по годам"
   ]
  },
  {
   "cell_type": "code",
   "execution_count": 171,
   "metadata": {},
   "outputs": [],
   "source": [
    "model_year_mean = train.groupby('year')['price'].mean().reset_index()\n"
   ]
  },
  {
   "cell_type": "code",
   "execution_count": 172,
   "metadata": {},
   "outputs": [
    {
     "data": {
      "text/html": [
       "<div>\n",
       "<style scoped>\n",
       "    .dataframe tbody tr th:only-of-type {\n",
       "        vertical-align: middle;\n",
       "    }\n",
       "\n",
       "    .dataframe tbody tr th {\n",
       "        vertical-align: top;\n",
       "    }\n",
       "\n",
       "    .dataframe thead th {\n",
       "        text-align: right;\n",
       "    }\n",
       "</style>\n",
       "<table border=\"1\" class=\"dataframe\">\n",
       "  <thead>\n",
       "    <tr style=\"text-align: right;\">\n",
       "      <th></th>\n",
       "      <th>year</th>\n",
       "      <th>price</th>\n",
       "    </tr>\n",
       "  </thead>\n",
       "  <tbody>\n",
       "    <tr>\n",
       "      <th>0</th>\n",
       "      <td>1996</td>\n",
       "      <td>5995.000000</td>\n",
       "    </tr>\n",
       "    <tr>\n",
       "      <th>1</th>\n",
       "      <td>1997</td>\n",
       "      <td>3950.000000</td>\n",
       "    </tr>\n",
       "    <tr>\n",
       "      <th>2</th>\n",
       "      <td>1998</td>\n",
       "      <td>3950.000000</td>\n",
       "    </tr>\n",
       "    <tr>\n",
       "      <th>3</th>\n",
       "      <td>1999</td>\n",
       "      <td>3980.000000</td>\n",
       "    </tr>\n",
       "    <tr>\n",
       "      <th>4</th>\n",
       "      <td>2000</td>\n",
       "      <td>1550.000000</td>\n",
       "    </tr>\n",
       "    <tr>\n",
       "      <th>5</th>\n",
       "      <td>2001</td>\n",
       "      <td>7333.333333</td>\n",
       "    </tr>\n",
       "    <tr>\n",
       "      <th>6</th>\n",
       "      <td>2002</td>\n",
       "      <td>3893.500000</td>\n",
       "    </tr>\n",
       "    <tr>\n",
       "      <th>7</th>\n",
       "      <td>2003</td>\n",
       "      <td>9222.500000</td>\n",
       "    </tr>\n",
       "    <tr>\n",
       "      <th>8</th>\n",
       "      <td>2004</td>\n",
       "      <td>7932.857143</td>\n",
       "    </tr>\n",
       "    <tr>\n",
       "      <th>9</th>\n",
       "      <td>2005</td>\n",
       "      <td>5390.166667</td>\n",
       "    </tr>\n",
       "    <tr>\n",
       "      <th>10</th>\n",
       "      <td>2006</td>\n",
       "      <td>5445.250000</td>\n",
       "    </tr>\n",
       "    <tr>\n",
       "      <th>11</th>\n",
       "      <td>2007</td>\n",
       "      <td>5027.833333</td>\n",
       "    </tr>\n",
       "    <tr>\n",
       "      <th>12</th>\n",
       "      <td>2008</td>\n",
       "      <td>6004.666667</td>\n",
       "    </tr>\n",
       "    <tr>\n",
       "      <th>13</th>\n",
       "      <td>2009</td>\n",
       "      <td>6506.090909</td>\n",
       "    </tr>\n",
       "    <tr>\n",
       "      <th>14</th>\n",
       "      <td>2010</td>\n",
       "      <td>7374.129032</td>\n",
       "    </tr>\n",
       "    <tr>\n",
       "      <th>15</th>\n",
       "      <td>2011</td>\n",
       "      <td>8860.297297</td>\n",
       "    </tr>\n",
       "    <tr>\n",
       "      <th>16</th>\n",
       "      <td>2012</td>\n",
       "      <td>9432.923913</td>\n",
       "    </tr>\n",
       "    <tr>\n",
       "      <th>17</th>\n",
       "      <td>2013</td>\n",
       "      <td>11041.347826</td>\n",
       "    </tr>\n",
       "    <tr>\n",
       "      <th>18</th>\n",
       "      <td>2014</td>\n",
       "      <td>13411.333333</td>\n",
       "    </tr>\n",
       "    <tr>\n",
       "      <th>19</th>\n",
       "      <td>2015</td>\n",
       "      <td>15086.536313</td>\n",
       "    </tr>\n",
       "    <tr>\n",
       "      <th>20</th>\n",
       "      <td>2016</td>\n",
       "      <td>16531.655222</td>\n",
       "    </tr>\n",
       "    <tr>\n",
       "      <th>21</th>\n",
       "      <td>2017</td>\n",
       "      <td>19205.839506</td>\n",
       "    </tr>\n",
       "    <tr>\n",
       "      <th>22</th>\n",
       "      <td>2018</td>\n",
       "      <td>22562.450394</td>\n",
       "    </tr>\n",
       "    <tr>\n",
       "      <th>23</th>\n",
       "      <td>2019</td>\n",
       "      <td>31066.986143</td>\n",
       "    </tr>\n",
       "    <tr>\n",
       "      <th>24</th>\n",
       "      <td>2020</td>\n",
       "      <td>35359.445652</td>\n",
       "    </tr>\n",
       "  </tbody>\n",
       "</table>\n",
       "</div>"
      ],
      "text/plain": [
       "    year         price\n",
       "0   1996   5995.000000\n",
       "1   1997   3950.000000\n",
       "2   1998   3950.000000\n",
       "3   1999   3980.000000\n",
       "4   2000   1550.000000\n",
       "5   2001   7333.333333\n",
       "6   2002   3893.500000\n",
       "7   2003   9222.500000\n",
       "8   2004   7932.857143\n",
       "9   2005   5390.166667\n",
       "10  2006   5445.250000\n",
       "11  2007   5027.833333\n",
       "12  2008   6004.666667\n",
       "13  2009   6506.090909\n",
       "14  2010   7374.129032\n",
       "15  2011   8860.297297\n",
       "16  2012   9432.923913\n",
       "17  2013  11041.347826\n",
       "18  2014  13411.333333\n",
       "19  2015  15086.536313\n",
       "20  2016  16531.655222\n",
       "21  2017  19205.839506\n",
       "22  2018  22562.450394\n",
       "23  2019  31066.986143\n",
       "24  2020  35359.445652"
      ]
     },
     "execution_count": 172,
     "metadata": {},
     "output_type": "execute_result"
    }
   ],
   "source": [
    "model_year_mean\n"
   ]
  },
  {
   "cell_type": "code",
   "execution_count": 173,
   "metadata": {},
   "outputs": [],
   "source": [
    "model_year_mean.columns = (['year', 'price_pred_year_mean'])\n",
    "#Переименуем price, чтобы названия колонок не задвоились\n"
   ]
  },
  {
   "cell_type": "markdown",
   "metadata": {},
   "source": [
    "Примержим модель к train"
   ]
  },
  {
   "cell_type": "code",
   "execution_count": 174,
   "metadata": {},
   "outputs": [],
   "source": [
    "train = train.merge(model_year_mean, how = 'left', on = 'year')\n"
   ]
  },
  {
   "cell_type": "markdown",
   "metadata": {},
   "source": [
    "Посмотрим на результат"
   ]
  },
  {
   "cell_type": "markdown",
   "metadata": {},
   "source": [
    "Прошлый результат"
   ]
  },
  {
   "cell_type": "code",
   "execution_count": 175,
   "metadata": {},
   "outputs": [
    {
     "name": "stdout",
     "output_type": "stream",
     "text": [
      "8220.5146567718\n",
      "0.41711111879393314\n"
     ]
    }
   ],
   "source": [
    "error(train['price'], train['price_pred_median'])\n"
   ]
  },
  {
   "cell_type": "markdown",
   "metadata": {},
   "source": [
    "Результат со средней стоимостью по годам"
   ]
  },
  {
   "cell_type": "code",
   "execution_count": 176,
   "metadata": {},
   "outputs": [
    {
     "name": "stdout",
     "output_type": "stream",
     "text": [
      "5474.243598515644\n",
      "0.2447228468704618\n"
     ]
    }
   ],
   "source": [
    "error(train['price'], train['price_pred_year_mean'])\n"
   ]
  },
  {
   "cell_type": "markdown",
   "metadata": {},
   "source": [
    "Средняя ошибка снизилась с 8220.5 до 5474.2"
   ]
  },
  {
   "cell_type": "markdown",
   "metadata": {},
   "source": [
    "Посмотрим результат на test"
   ]
  },
  {
   "cell_type": "code",
   "execution_count": 177,
   "metadata": {},
   "outputs": [],
   "source": [
    "test = test.merge(model_year_mean, how = 'left', on = 'year')\n",
    "#мерджим модель к test\n"
   ]
  },
  {
   "cell_type": "markdown",
   "metadata": {},
   "source": [
    "Посмотрим не появились ли пропуски"
   ]
  },
  {
   "cell_type": "code",
   "execution_count": 178,
   "metadata": {},
   "outputs": [
    {
     "data": {
      "text/plain": [
       "model                   0.0\n",
       "year                    0.0\n",
       "price                   0.0\n",
       "transmission            0.0\n",
       "mileage                 0.0\n",
       "fuelType                0.0\n",
       "tax                     0.0\n",
       "mpg                     0.0\n",
       "engineSize              0.0\n",
       "price_pred_median       0.0\n",
       "price_pred_year_mean    0.0\n",
       "dtype: float64"
      ]
     },
     "execution_count": 178,
     "metadata": {},
     "output_type": "execute_result"
    }
   ],
   "source": [
    "test.isna().mean()\n"
   ]
  },
  {
   "cell_type": "code",
   "execution_count": 179,
   "metadata": {},
   "outputs": [
    {
     "name": "stdout",
     "output_type": "stream",
     "text": [
      "8211.845697329376\n",
      "0.409212791738344\n"
     ]
    }
   ],
   "source": [
    "error(test['price'], test['price_pred_median'])\n"
   ]
  },
  {
   "cell_type": "code",
   "execution_count": 180,
   "metadata": {},
   "outputs": [
    {
     "name": "stdout",
     "output_type": "stream",
     "text": [
      "5426.271071211102\n",
      "0.23933940428873632\n"
     ]
    }
   ],
   "source": [
    "error(test['price'], test['price_pred_year_mean'])\n"
   ]
  },
  {
   "cell_type": "markdown",
   "metadata": {},
   "source": [
    "На test мы также получаем значительное улучшение относительно базовой модели"
   ]
  },
  {
   "cell_type": "markdown",
   "metadata": {},
   "source": [
    "Создадим модель со медианной стоимостью авто по годам"
   ]
  },
  {
   "cell_type": "code",
   "execution_count": 182,
   "metadata": {},
   "outputs": [],
   "source": [
    "model_year_median = train.groupby('year')['price'].median().reset_index()\n"
   ]
  },
  {
   "cell_type": "code",
   "execution_count": 183,
   "metadata": {},
   "outputs": [],
   "source": [
    "model_year_median = model_year_median.rename({'price' : 'price_pred_year_median'}, axis = 1)\n"
   ]
  },
  {
   "cell_type": "code",
   "execution_count": 184,
   "metadata": {},
   "outputs": [
    {
     "data": {
      "text/html": [
       "<div>\n",
       "<style scoped>\n",
       "    .dataframe tbody tr th:only-of-type {\n",
       "        vertical-align: middle;\n",
       "    }\n",
       "\n",
       "    .dataframe tbody tr th {\n",
       "        vertical-align: top;\n",
       "    }\n",
       "\n",
       "    .dataframe thead th {\n",
       "        text-align: right;\n",
       "    }\n",
       "</style>\n",
       "<table border=\"1\" class=\"dataframe\">\n",
       "  <thead>\n",
       "    <tr style=\"text-align: right;\">\n",
       "      <th></th>\n",
       "      <th>year</th>\n",
       "      <th>price_pred_year_median</th>\n",
       "    </tr>\n",
       "  </thead>\n",
       "  <tbody>\n",
       "    <tr>\n",
       "      <th>0</th>\n",
       "      <td>1996</td>\n",
       "      <td>5995.0</td>\n",
       "    </tr>\n",
       "    <tr>\n",
       "      <th>1</th>\n",
       "      <td>1997</td>\n",
       "      <td>3950.0</td>\n",
       "    </tr>\n",
       "    <tr>\n",
       "      <th>2</th>\n",
       "      <td>1998</td>\n",
       "      <td>3950.0</td>\n",
       "    </tr>\n",
       "    <tr>\n",
       "      <th>3</th>\n",
       "      <td>1999</td>\n",
       "      <td>3995.0</td>\n",
       "    </tr>\n",
       "    <tr>\n",
       "      <th>4</th>\n",
       "      <td>2000</td>\n",
       "      <td>1550.0</td>\n",
       "    </tr>\n",
       "    <tr>\n",
       "      <th>5</th>\n",
       "      <td>2001</td>\n",
       "      <td>5950.0</td>\n",
       "    </tr>\n",
       "    <tr>\n",
       "      <th>6</th>\n",
       "      <td>2002</td>\n",
       "      <td>3494.5</td>\n",
       "    </tr>\n",
       "    <tr>\n",
       "      <th>7</th>\n",
       "      <td>2003</td>\n",
       "      <td>9222.5</td>\n",
       "    </tr>\n",
       "    <tr>\n",
       "      <th>8</th>\n",
       "      <td>2004</td>\n",
       "      <td>3495.0</td>\n",
       "    </tr>\n",
       "    <tr>\n",
       "      <th>9</th>\n",
       "      <td>2005</td>\n",
       "      <td>4685.0</td>\n",
       "    </tr>\n",
       "    <tr>\n",
       "      <th>10</th>\n",
       "      <td>2006</td>\n",
       "      <td>3942.5</td>\n",
       "    </tr>\n",
       "    <tr>\n",
       "      <th>11</th>\n",
       "      <td>2007</td>\n",
       "      <td>4597.5</td>\n",
       "    </tr>\n",
       "    <tr>\n",
       "      <th>12</th>\n",
       "      <td>2008</td>\n",
       "      <td>5272.5</td>\n",
       "    </tr>\n",
       "    <tr>\n",
       "      <th>13</th>\n",
       "      <td>2009</td>\n",
       "      <td>5845.0</td>\n",
       "    </tr>\n",
       "    <tr>\n",
       "      <th>14</th>\n",
       "      <td>2010</td>\n",
       "      <td>6495.0</td>\n",
       "    </tr>\n",
       "    <tr>\n",
       "      <th>15</th>\n",
       "      <td>2011</td>\n",
       "      <td>8470.0</td>\n",
       "    </tr>\n",
       "    <tr>\n",
       "      <th>16</th>\n",
       "      <td>2012</td>\n",
       "      <td>8990.0</td>\n",
       "    </tr>\n",
       "    <tr>\n",
       "      <th>17</th>\n",
       "      <td>2013</td>\n",
       "      <td>10490.0</td>\n",
       "    </tr>\n",
       "    <tr>\n",
       "      <th>18</th>\n",
       "      <td>2014</td>\n",
       "      <td>12797.5</td>\n",
       "    </tr>\n",
       "    <tr>\n",
       "      <th>19</th>\n",
       "      <td>2015</td>\n",
       "      <td>14103.5</td>\n",
       "    </tr>\n",
       "    <tr>\n",
       "      <th>20</th>\n",
       "      <td>2016</td>\n",
       "      <td>15699.5</td>\n",
       "    </tr>\n",
       "    <tr>\n",
       "      <th>21</th>\n",
       "      <td>2017</td>\n",
       "      <td>18299.5</td>\n",
       "    </tr>\n",
       "    <tr>\n",
       "      <th>22</th>\n",
       "      <td>2018</td>\n",
       "      <td>21000.0</td>\n",
       "    </tr>\n",
       "    <tr>\n",
       "      <th>23</th>\n",
       "      <td>2019</td>\n",
       "      <td>27980.0</td>\n",
       "    </tr>\n",
       "    <tr>\n",
       "      <th>24</th>\n",
       "      <td>2020</td>\n",
       "      <td>32450.5</td>\n",
       "    </tr>\n",
       "  </tbody>\n",
       "</table>\n",
       "</div>"
      ],
      "text/plain": [
       "    year  price_pred_year_median\n",
       "0   1996                  5995.0\n",
       "1   1997                  3950.0\n",
       "2   1998                  3950.0\n",
       "3   1999                  3995.0\n",
       "4   2000                  1550.0\n",
       "5   2001                  5950.0\n",
       "6   2002                  3494.5\n",
       "7   2003                  9222.5\n",
       "8   2004                  3495.0\n",
       "9   2005                  4685.0\n",
       "10  2006                  3942.5\n",
       "11  2007                  4597.5\n",
       "12  2008                  5272.5\n",
       "13  2009                  5845.0\n",
       "14  2010                  6495.0\n",
       "15  2011                  8470.0\n",
       "16  2012                  8990.0\n",
       "17  2013                 10490.0\n",
       "18  2014                 12797.5\n",
       "19  2015                 14103.5\n",
       "20  2016                 15699.5\n",
       "21  2017                 18299.5\n",
       "22  2018                 21000.0\n",
       "23  2019                 27980.0\n",
       "24  2020                 32450.5"
      ]
     },
     "execution_count": 184,
     "metadata": {},
     "output_type": "execute_result"
    }
   ],
   "source": [
    "model_year_median\n"
   ]
  },
  {
   "cell_type": "code",
   "execution_count": 185,
   "metadata": {},
   "outputs": [],
   "source": [
    "train = train.merge(model_year_median, how = 'left', on = 'year')\n"
   ]
  },
  {
   "cell_type": "markdown",
   "metadata": {},
   "source": [
    "Последний результат"
   ]
  },
  {
   "cell_type": "code",
   "execution_count": 187,
   "metadata": {},
   "outputs": [
    {
     "name": "stdout",
     "output_type": "stream",
     "text": [
      "5474.243598515644\n",
      "0.2447228468704618\n"
     ]
    }
   ],
   "source": [
    "error(train['price'], train['price_pred_year_mean'])\n"
   ]
  },
  {
   "cell_type": "code",
   "execution_count": 188,
   "metadata": {},
   "outputs": [
    {
     "name": "stdout",
     "output_type": "stream",
     "text": [
      "5232.327891156463\n",
      "0.21723436816638503\n"
     ]
    }
   ],
   "source": [
    "error(train['price'], train['price_pred_year_median'])\n"
   ]
  },
  {
   "cell_type": "markdown",
   "metadata": {},
   "source": [
    "Медиана позволила нам улучшить качество с 5474.2 до 5232.3"
   ]
  },
  {
   "cell_type": "markdown",
   "metadata": {},
   "source": [
    "Теперь посмотрим результат для test"
   ]
  },
  {
   "cell_type": "code",
   "execution_count": 189,
   "metadata": {},
   "outputs": [],
   "source": [
    "test = test.merge(model_year_median, how = 'left', on = 'year')\n"
   ]
  },
  {
   "cell_type": "code",
   "execution_count": 190,
   "metadata": {},
   "outputs": [
    {
     "name": "stdout",
     "output_type": "stream",
     "text": [
      "5426.271071211102\n",
      "0.23933940428873632\n"
     ]
    }
   ],
   "source": [
    "error(test['price'], test['price_pred_year_mean'])\n"
   ]
  },
  {
   "cell_type": "code",
   "execution_count": 192,
   "metadata": {},
   "outputs": [
    {
     "name": "stdout",
     "output_type": "stream",
     "text": [
      "5426.271071211102\n",
      "0.23933940428873632\n"
     ]
    }
   ],
   "source": [
    "error(test['price'], test['price_pred_year_mean'])\n"
   ]
  },
  {
   "cell_type": "code",
   "execution_count": 191,
   "metadata": {},
   "outputs": [
    {
     "data": {
      "text/plain": [
       "5240.677299703264"
      ]
     },
     "execution_count": 191,
     "metadata": {},
     "output_type": "execute_result"
    }
   ],
   "source": [
    "mean_absolute_error(test['price'], test['price_pred_year_median'])\n"
   ]
  },
  {
   "cell_type": "markdown",
   "metadata": {},
   "source": [
    "На test также результ также немного улучшился"
   ]
  },
  {
   "cell_type": "markdown",
   "metadata": {},
   "source": [
    "Для того, чтобы улучшим модель добавим еще одну переменную"
   ]
  },
  {
   "cell_type": "markdown",
   "metadata": {},
   "source": [
    "Проверим взаимосвязь между объемом двигателя и стоимостью"
   ]
  },
  {
   "cell_type": "code",
   "execution_count": 49,
   "metadata": {},
   "outputs": [
    {
     "data": {
      "text/html": [
       "<div>\n",
       "<style scoped>\n",
       "    .dataframe tbody tr th:only-of-type {\n",
       "        vertical-align: middle;\n",
       "    }\n",
       "\n",
       "    .dataframe tbody tr th {\n",
       "        vertical-align: top;\n",
       "    }\n",
       "\n",
       "    .dataframe thead th {\n",
       "        text-align: right;\n",
       "    }\n",
       "</style>\n",
       "<table border=\"1\" class=\"dataframe\">\n",
       "  <thead>\n",
       "    <tr style=\"text-align: right;\">\n",
       "      <th></th>\n",
       "      <th>engineSize</th>\n",
       "      <th>count</th>\n",
       "      <th>mean</th>\n",
       "      <th>median</th>\n",
       "    </tr>\n",
       "  </thead>\n",
       "  <tbody>\n",
       "    <tr>\n",
       "      <th>0</th>\n",
       "      <td>0.0</td>\n",
       "      <td>32</td>\n",
       "      <td>18469.906250</td>\n",
       "      <td>18250.0</td>\n",
       "    </tr>\n",
       "    <tr>\n",
       "      <th>1</th>\n",
       "      <td>0.6</td>\n",
       "      <td>6</td>\n",
       "      <td>17973.333333</td>\n",
       "      <td>18200.0</td>\n",
       "    </tr>\n",
       "    <tr>\n",
       "      <th>2</th>\n",
       "      <td>1.0</td>\n",
       "      <td>1</td>\n",
       "      <td>17400.000000</td>\n",
       "      <td>17400.0</td>\n",
       "    </tr>\n",
       "    <tr>\n",
       "      <th>3</th>\n",
       "      <td>1.5</td>\n",
       "      <td>1146</td>\n",
       "      <td>17104.345550</td>\n",
       "      <td>15881.5</td>\n",
       "    </tr>\n",
       "    <tr>\n",
       "      <th>4</th>\n",
       "      <td>1.6</td>\n",
       "      <td>75</td>\n",
       "      <td>9230.240000</td>\n",
       "      <td>8890.0</td>\n",
       "    </tr>\n",
       "    <tr>\n",
       "      <th>5</th>\n",
       "      <td>1.9</td>\n",
       "      <td>5</td>\n",
       "      <td>3968.000000</td>\n",
       "      <td>3950.0</td>\n",
       "    </tr>\n",
       "    <tr>\n",
       "      <th>6</th>\n",
       "      <td>2.0</td>\n",
       "      <td>4925</td>\n",
       "      <td>20697.721624</td>\n",
       "      <td>19792.0</td>\n",
       "    </tr>\n",
       "    <tr>\n",
       "      <th>7</th>\n",
       "      <td>2.2</td>\n",
       "      <td>4</td>\n",
       "      <td>6010.000000</td>\n",
       "      <td>3972.5</td>\n",
       "    </tr>\n",
       "    <tr>\n",
       "      <th>8</th>\n",
       "      <td>2.5</td>\n",
       "      <td>8</td>\n",
       "      <td>4532.375000</td>\n",
       "      <td>3892.5</td>\n",
       "    </tr>\n",
       "    <tr>\n",
       "      <th>9</th>\n",
       "      <td>2.8</td>\n",
       "      <td>1</td>\n",
       "      <td>5995.000000</td>\n",
       "      <td>5995.0</td>\n",
       "    </tr>\n",
       "    <tr>\n",
       "      <th>10</th>\n",
       "      <td>3.0</td>\n",
       "      <td>1818</td>\n",
       "      <td>31545.723872</td>\n",
       "      <td>27058.0</td>\n",
       "    </tr>\n",
       "    <tr>\n",
       "      <th>11</th>\n",
       "      <td>3.2</td>\n",
       "      <td>3</td>\n",
       "      <td>16116.333333</td>\n",
       "      <td>17850.0</td>\n",
       "    </tr>\n",
       "    <tr>\n",
       "      <th>12</th>\n",
       "      <td>3.5</td>\n",
       "      <td>1</td>\n",
       "      <td>6990.000000</td>\n",
       "      <td>6990.0</td>\n",
       "    </tr>\n",
       "    <tr>\n",
       "      <th>13</th>\n",
       "      <td>4.0</td>\n",
       "      <td>4</td>\n",
       "      <td>18012.250000</td>\n",
       "      <td>17700.0</td>\n",
       "    </tr>\n",
       "    <tr>\n",
       "      <th>14</th>\n",
       "      <td>4.4</td>\n",
       "      <td>54</td>\n",
       "      <td>49960.666667</td>\n",
       "      <td>45904.5</td>\n",
       "    </tr>\n",
       "    <tr>\n",
       "      <th>15</th>\n",
       "      <td>5.0</td>\n",
       "      <td>1</td>\n",
       "      <td>12495.000000</td>\n",
       "      <td>12495.0</td>\n",
       "    </tr>\n",
       "    <tr>\n",
       "      <th>16</th>\n",
       "      <td>6.6</td>\n",
       "      <td>1</td>\n",
       "      <td>57000.000000</td>\n",
       "      <td>57000.0</td>\n",
       "    </tr>\n",
       "  </tbody>\n",
       "</table>\n",
       "</div>"
      ],
      "text/plain": [
       "    engineSize  count          mean   median\n",
       "0          0.0     32  18469.906250  18250.0\n",
       "1          0.6      6  17973.333333  18200.0\n",
       "2          1.0      1  17400.000000  17400.0\n",
       "3          1.5   1146  17104.345550  15881.5\n",
       "4          1.6     75   9230.240000   8890.0\n",
       "5          1.9      5   3968.000000   3950.0\n",
       "6          2.0   4925  20697.721624  19792.0\n",
       "7          2.2      4   6010.000000   3972.5\n",
       "8          2.5      8   4532.375000   3892.5\n",
       "9          2.8      1   5995.000000   5995.0\n",
       "10         3.0   1818  31545.723872  27058.0\n",
       "11         3.2      3  16116.333333  17850.0\n",
       "12         3.5      1   6990.000000   6990.0\n",
       "13         4.0      4  18012.250000  17700.0\n",
       "14         4.4     54  49960.666667  45904.5\n",
       "15         5.0      1  12495.000000  12495.0\n",
       "16         6.6      1  57000.000000  57000.0"
      ]
     },
     "execution_count": 49,
     "metadata": {},
     "output_type": "execute_result"
    }
   ],
   "source": [
    "train.groupby('engineSize')['price'].agg(['count', 'mean', 'median']).reset_index()\n"
   ]
  },
  {
   "cell_type": "code",
   "execution_count": 194,
   "metadata": {},
   "outputs": [
    {
     "data": {
      "text/plain": [
       "<Axes: xlabel='engineSize'>"
      ]
     },
     "execution_count": 194,
     "metadata": {},
     "output_type": "execute_result"
    },
    {
     "data": {
      "image/png": "[encoded data removed]",
      "text/plain": [
       "<Figure size 640x480 with 1 Axes>"
      ]
     },
     "metadata": {},
     "output_type": "display_data"
    }
   ],
   "source": [
    "train.groupby('engineSize')['price'].median().plot()\n"
   ]
  },
  {
   "cell_type": "markdown",
   "metadata": {},
   "source": [
    "Взаимосвязь есть, поэтому можем включать показатель объема двигателя в нашу модель, что должно улучшить точность предикта"
   ]
  },
  {
   "cell_type": "markdown",
   "metadata": {},
   "source": [
    "Разделим показатель объема двигателя на группы"
   ]
  },
  {
   "cell_type": "code",
   "execution_count": 196,
   "metadata": {},
   "outputs": [],
   "source": [
    "def engine_group(x):\n",
    "    if x <=1.5:\n",
    "        return '<=1.5'\n",
    "    if x <=2:\n",
    "        return '<=2'\n",
    "    return '>2'\n"
   ]
  },
  {
   "cell_type": "markdown",
   "metadata": {},
   "source": [
    "Применим функцию к train"
   ]
  },
  {
   "cell_type": "code",
   "execution_count": 197,
   "metadata": {},
   "outputs": [],
   "source": [
    "train['engine_group'] = train['engineSize'].apply(engine_group)\n"
   ]
  },
  {
   "cell_type": "code",
   "execution_count": 198,
   "metadata": {},
   "outputs": [
    {
     "data": {
      "text/html": [
       "<div>\n",
       "<style scoped>\n",
       "    .dataframe tbody tr th:only-of-type {\n",
       "        vertical-align: middle;\n",
       "    }\n",
       "\n",
       "    .dataframe tbody tr th {\n",
       "        vertical-align: top;\n",
       "    }\n",
       "\n",
       "    .dataframe thead th {\n",
       "        text-align: right;\n",
       "    }\n",
       "</style>\n",
       "<table border=\"1\" class=\"dataframe\">\n",
       "  <thead>\n",
       "    <tr style=\"text-align: right;\">\n",
       "      <th></th>\n",
       "      <th>model</th>\n",
       "      <th>year</th>\n",
       "      <th>price</th>\n",
       "      <th>transmission</th>\n",
       "      <th>mileage</th>\n",
       "      <th>fuelType</th>\n",
       "      <th>tax</th>\n",
       "      <th>mpg</th>\n",
       "      <th>engineSize</th>\n",
       "      <th>price_pred_median</th>\n",
       "      <th>price_pred_year_mean</th>\n",
       "      <th>price_pred_year_median</th>\n",
       "      <th>engine_group</th>\n",
       "    </tr>\n",
       "  </thead>\n",
       "  <tbody>\n",
       "    <tr>\n",
       "      <th>0</th>\n",
       "      <td>5 Series</td>\n",
       "      <td>2013</td>\n",
       "      <td>12791</td>\n",
       "      <td>Semi-Auto</td>\n",
       "      <td>55642</td>\n",
       "      <td>Diesel</td>\n",
       "      <td>145</td>\n",
       "      <td>55.4</td>\n",
       "      <td>2.0</td>\n",
       "      <td>20022.0</td>\n",
       "      <td>11041.347826</td>\n",
       "      <td>10490.0</td>\n",
       "      <td>&lt;=2</td>\n",
       "    </tr>\n",
       "    <tr>\n",
       "      <th>1</th>\n",
       "      <td>1 Series</td>\n",
       "      <td>2019</td>\n",
       "      <td>23995</td>\n",
       "      <td>Semi-Auto</td>\n",
       "      <td>1527</td>\n",
       "      <td>Petrol</td>\n",
       "      <td>145</td>\n",
       "      <td>43.5</td>\n",
       "      <td>1.5</td>\n",
       "      <td>20022.0</td>\n",
       "      <td>31066.986143</td>\n",
       "      <td>27980.0</td>\n",
       "      <td>&lt;=1.5</td>\n",
       "    </tr>\n",
       "    <tr>\n",
       "      <th>2</th>\n",
       "      <td>X5</td>\n",
       "      <td>2015</td>\n",
       "      <td>25995</td>\n",
       "      <td>Automatic</td>\n",
       "      <td>43344</td>\n",
       "      <td>Diesel</td>\n",
       "      <td>200</td>\n",
       "      <td>47.1</td>\n",
       "      <td>3.0</td>\n",
       "      <td>20022.0</td>\n",
       "      <td>15086.536313</td>\n",
       "      <td>14103.5</td>\n",
       "      <td>&gt;2</td>\n",
       "    </tr>\n",
       "    <tr>\n",
       "      <th>3</th>\n",
       "      <td>2 Series</td>\n",
       "      <td>2019</td>\n",
       "      <td>25000</td>\n",
       "      <td>Automatic</td>\n",
       "      <td>4000</td>\n",
       "      <td>Petrol</td>\n",
       "      <td>145</td>\n",
       "      <td>47.9</td>\n",
       "      <td>2.0</td>\n",
       "      <td>20022.0</td>\n",
       "      <td>31066.986143</td>\n",
       "      <td>27980.0</td>\n",
       "      <td>&lt;=2</td>\n",
       "    </tr>\n",
       "    <tr>\n",
       "      <th>4</th>\n",
       "      <td>1 Series</td>\n",
       "      <td>2015</td>\n",
       "      <td>10950</td>\n",
       "      <td>Manual</td>\n",
       "      <td>33000</td>\n",
       "      <td>Diesel</td>\n",
       "      <td>20</td>\n",
       "      <td>72.4</td>\n",
       "      <td>1.5</td>\n",
       "      <td>20022.0</td>\n",
       "      <td>15086.536313</td>\n",
       "      <td>14103.5</td>\n",
       "      <td>&lt;=1.5</td>\n",
       "    </tr>\n",
       "    <tr>\n",
       "      <th>...</th>\n",
       "      <td>...</td>\n",
       "      <td>...</td>\n",
       "      <td>...</td>\n",
       "      <td>...</td>\n",
       "      <td>...</td>\n",
       "      <td>...</td>\n",
       "      <td>...</td>\n",
       "      <td>...</td>\n",
       "      <td>...</td>\n",
       "      <td>...</td>\n",
       "      <td>...</td>\n",
       "      <td>...</td>\n",
       "      <td>...</td>\n",
       "    </tr>\n",
       "    <tr>\n",
       "      <th>8080</th>\n",
       "      <td>3 Series</td>\n",
       "      <td>2018</td>\n",
       "      <td>17995</td>\n",
       "      <td>Semi-Auto</td>\n",
       "      <td>40456</td>\n",
       "      <td>Diesel</td>\n",
       "      <td>145</td>\n",
       "      <td>64.2</td>\n",
       "      <td>2.0</td>\n",
       "      <td>20022.0</td>\n",
       "      <td>22562.450394</td>\n",
       "      <td>21000.0</td>\n",
       "      <td>&lt;=2</td>\n",
       "    </tr>\n",
       "    <tr>\n",
       "      <th>8081</th>\n",
       "      <td>1 Series</td>\n",
       "      <td>2016</td>\n",
       "      <td>19950</td>\n",
       "      <td>Semi-Auto</td>\n",
       "      <td>23210</td>\n",
       "      <td>Petrol</td>\n",
       "      <td>200</td>\n",
       "      <td>39.8</td>\n",
       "      <td>3.0</td>\n",
       "      <td>20022.0</td>\n",
       "      <td>16531.655222</td>\n",
       "      <td>15699.5</td>\n",
       "      <td>&gt;2</td>\n",
       "    </tr>\n",
       "    <tr>\n",
       "      <th>8082</th>\n",
       "      <td>X2</td>\n",
       "      <td>2019</td>\n",
       "      <td>25450</td>\n",
       "      <td>Semi-Auto</td>\n",
       "      <td>5652</td>\n",
       "      <td>Diesel</td>\n",
       "      <td>145</td>\n",
       "      <td>47.9</td>\n",
       "      <td>2.0</td>\n",
       "      <td>20022.0</td>\n",
       "      <td>31066.986143</td>\n",
       "      <td>27980.0</td>\n",
       "      <td>&lt;=2</td>\n",
       "    </tr>\n",
       "    <tr>\n",
       "      <th>8083</th>\n",
       "      <td>X1</td>\n",
       "      <td>2016</td>\n",
       "      <td>19850</td>\n",
       "      <td>Semi-Auto</td>\n",
       "      <td>14542</td>\n",
       "      <td>Diesel</td>\n",
       "      <td>125</td>\n",
       "      <td>60.1</td>\n",
       "      <td>2.0</td>\n",
       "      <td>20022.0</td>\n",
       "      <td>16531.655222</td>\n",
       "      <td>15699.5</td>\n",
       "      <td>&lt;=2</td>\n",
       "    </tr>\n",
       "    <tr>\n",
       "      <th>8084</th>\n",
       "      <td>1 Series</td>\n",
       "      <td>2016</td>\n",
       "      <td>15745</td>\n",
       "      <td>Automatic</td>\n",
       "      <td>17237</td>\n",
       "      <td>Petrol</td>\n",
       "      <td>125</td>\n",
       "      <td>54.3</td>\n",
       "      <td>1.5</td>\n",
       "      <td>20022.0</td>\n",
       "      <td>16531.655222</td>\n",
       "      <td>15699.5</td>\n",
       "      <td>&lt;=1.5</td>\n",
       "    </tr>\n",
       "  </tbody>\n",
       "</table>\n",
       "<p>8085 rows × 13 columns</p>\n",
       "</div>"
      ],
      "text/plain": [
       "          model  year  price transmission  mileage fuelType  tax   mpg  \\\n",
       "0      5 Series  2013  12791    Semi-Auto    55642   Diesel  145  55.4   \n",
       "1      1 Series  2019  23995    Semi-Auto     1527   Petrol  145  43.5   \n",
       "2            X5  2015  25995    Automatic    43344   Diesel  200  47.1   \n",
       "3      2 Series  2019  25000    Automatic     4000   Petrol  145  47.9   \n",
       "4      1 Series  2015  10950       Manual    33000   Diesel   20  72.4   \n",
       "...         ...   ...    ...          ...      ...      ...  ...   ...   \n",
       "8080   3 Series  2018  17995    Semi-Auto    40456   Diesel  145  64.2   \n",
       "8081   1 Series  2016  19950    Semi-Auto    23210   Petrol  200  39.8   \n",
       "8082         X2  2019  25450    Semi-Auto     5652   Diesel  145  47.9   \n",
       "8083         X1  2016  19850    Semi-Auto    14542   Diesel  125  60.1   \n",
       "8084   1 Series  2016  15745    Automatic    17237   Petrol  125  54.3   \n",
       "\n",
       "      engineSize  price_pred_median  price_pred_year_mean  \\\n",
       "0            2.0            20022.0          11041.347826   \n",
       "1            1.5            20022.0          31066.986143   \n",
       "2            3.0            20022.0          15086.536313   \n",
       "3            2.0            20022.0          31066.986143   \n",
       "4            1.5            20022.0          15086.536313   \n",
       "...          ...                ...                   ...   \n",
       "8080         2.0            20022.0          22562.450394   \n",
       "8081         3.0            20022.0          16531.655222   \n",
       "8082         2.0            20022.0          31066.986143   \n",
       "8083         2.0            20022.0          16531.655222   \n",
       "8084         1.5            20022.0          16531.655222   \n",
       "\n",
       "      price_pred_year_median engine_group  \n",
       "0                    10490.0          <=2  \n",
       "1                    27980.0        <=1.5  \n",
       "2                    14103.5           >2  \n",
       "3                    27980.0          <=2  \n",
       "4                    14103.5        <=1.5  \n",
       "...                      ...          ...  \n",
       "8080                 21000.0          <=2  \n",
       "8081                 15699.5           >2  \n",
       "8082                 27980.0          <=2  \n",
       "8083                 15699.5          <=2  \n",
       "8084                 15699.5        <=1.5  \n",
       "\n",
       "[8085 rows x 13 columns]"
      ]
     },
     "execution_count": 198,
     "metadata": {},
     "output_type": "execute_result"
    }
   ],
   "source": [
    "train\n"
   ]
  },
  {
   "cell_type": "code",
   "execution_count": 199,
   "metadata": {},
   "outputs": [
    {
     "data": {
      "text/html": [
       "<div>\n",
       "<style scoped>\n",
       "    .dataframe tbody tr th:only-of-type {\n",
       "        vertical-align: middle;\n",
       "    }\n",
       "\n",
       "    .dataframe tbody tr th {\n",
       "        vertical-align: top;\n",
       "    }\n",
       "\n",
       "    .dataframe thead th {\n",
       "        text-align: right;\n",
       "    }\n",
       "</style>\n",
       "<table border=\"1\" class=\"dataframe\">\n",
       "  <thead>\n",
       "    <tr style=\"text-align: right;\">\n",
       "      <th></th>\n",
       "      <th>count</th>\n",
       "      <th>mean</th>\n",
       "      <th>median</th>\n",
       "    </tr>\n",
       "    <tr>\n",
       "      <th>engine_group</th>\n",
       "      <th></th>\n",
       "      <th></th>\n",
       "      <th></th>\n",
       "    </tr>\n",
       "  </thead>\n",
       "  <tbody>\n",
       "    <tr>\n",
       "      <th>&lt;=1.5</th>\n",
       "      <td>1185</td>\n",
       "      <td>17145.870886</td>\n",
       "      <td>15980.0</td>\n",
       "    </tr>\n",
       "    <tr>\n",
       "      <th>&lt;=2</th>\n",
       "      <td>5005</td>\n",
       "      <td>20509.168232</td>\n",
       "      <td>19499.0</td>\n",
       "    </tr>\n",
       "    <tr>\n",
       "      <th>&gt;2</th>\n",
       "      <td>1895</td>\n",
       "      <td>31826.479683</td>\n",
       "      <td>27500.0</td>\n",
       "    </tr>\n",
       "  </tbody>\n",
       "</table>\n",
       "</div>"
      ],
      "text/plain": [
       "              count          mean   median\n",
       "engine_group                              \n",
       "<=1.5          1185  17145.870886  15980.0\n",
       "<=2            5005  20509.168232  19499.0\n",
       ">2             1895  31826.479683  27500.0"
      ]
     },
     "execution_count": 199,
     "metadata": {},
     "output_type": "execute_result"
    }
   ],
   "source": [
    "train.groupby('engine_group')['price'].agg(['count', 'mean', 'median'])\n"
   ]
  },
  {
   "cell_type": "markdown",
   "metadata": {},
   "source": [
    "Строим модель и мерджим ее к train"
   ]
  },
  {
   "cell_type": "code",
   "execution_count": 200,
   "metadata": {},
   "outputs": [],
   "source": [
    "model_year_engine_median = train.groupby(['year','engine_group'])['price'].median().reset_index()\n"
   ]
  },
  {
   "cell_type": "code",
   "execution_count": 201,
   "metadata": {},
   "outputs": [],
   "source": [
    "model_year_engine_median = model_year_engine_median.rename({'price' : 'price_pred_year_engine_median'}, axis = 1)\n"
   ]
  },
  {
   "cell_type": "code",
   "execution_count": 202,
   "metadata": {},
   "outputs": [],
   "source": [
    "train = train.merge(model_year_engine_median, how = 'left', on = ['year', 'engine_group'])\n"
   ]
  },
  {
   "cell_type": "markdown",
   "metadata": {},
   "source": [
    "Посмотрим на результат"
   ]
  },
  {
   "cell_type": "code",
   "execution_count": 206,
   "metadata": {},
   "outputs": [
    {
     "name": "stdout",
     "output_type": "stream",
     "text": [
      "5232.327891156463\n",
      "0.21723436816638503\n"
     ]
    }
   ],
   "source": [
    "error(train['price'], train['price_pred_year_median'])    # Результат без показателя объема двигателя\n"
   ]
  },
  {
   "cell_type": "code",
   "execution_count": 207,
   "metadata": {},
   "outputs": [
    {
     "name": "stdout",
     "output_type": "stream",
     "text": [
      "3659.774273345702\n",
      "0.1582922021242831\n"
     ]
    }
   ],
   "source": [
    "error(train['price'], train['price_pred_year_engine_median']) # Результат с показателем объема двигателя\n"
   ]
  },
  {
   "cell_type": "markdown",
   "metadata": {},
   "source": [
    "На train результат значительно улучшился"
   ]
  },
  {
   "cell_type": "markdown",
   "metadata": {},
   "source": [
    "Посмотрим на test"
   ]
  },
  {
   "cell_type": "markdown",
   "metadata": {},
   "source": [
    "Применим функцию к test"
   ]
  },
  {
   "cell_type": "code",
   "execution_count": 208,
   "metadata": {},
   "outputs": [],
   "source": [
    "test['engine_group'] = test['engineSize'].apply(engine_group)\n"
   ]
  },
  {
   "cell_type": "markdown",
   "metadata": {},
   "source": [
    "Примержим модель по двум переменным"
   ]
  },
  {
   "cell_type": "code",
   "execution_count": 209,
   "metadata": {},
   "outputs": [],
   "source": [
    "test = test.merge(model_year_engine_median, how = 'left', on = ['year','engine_group'])\n"
   ]
  },
  {
   "cell_type": "markdown",
   "metadata": {},
   "source": [
    "После присоединения модели проверим на пропуски"
   ]
  },
  {
   "cell_type": "code",
   "execution_count": 210,
   "metadata": {},
   "outputs": [
    {
     "data": {
      "text/plain": [
       "model                            0.000000\n",
       "year                             0.000000\n",
       "price                            0.000000\n",
       "transmission                     0.000000\n",
       "mileage                          0.000000\n",
       "fuelType                         0.000000\n",
       "tax                              0.000000\n",
       "mpg                              0.000000\n",
       "engineSize                       0.000000\n",
       "price_pred_median                0.000000\n",
       "price_pred_year_mean             0.000000\n",
       "price_pred_year_median           0.000000\n",
       "engine_group                     0.000000\n",
       "price_pred_year_engine_median    0.000742\n",
       "dtype: float64"
      ]
     },
     "execution_count": 210,
     "metadata": {},
     "output_type": "execute_result"
    }
   ],
   "source": [
    "test.isna().mean()\n"
   ]
  },
  {
   "cell_type": "markdown",
   "metadata": {},
   "source": [
    "В данных появились пропуски из-за того, что в test вероятно есть автомобиль, с такими характеристиками года и объема двигателя, которых не было в train"
   ]
  },
  {
   "cell_type": "code",
   "execution_count": 211,
   "metadata": {},
   "outputs": [
    {
     "data": {
      "text/html": [
       "<div>\n",
       "<style scoped>\n",
       "    .dataframe tbody tr th:only-of-type {\n",
       "        vertical-align: middle;\n",
       "    }\n",
       "\n",
       "    .dataframe tbody tr th {\n",
       "        vertical-align: top;\n",
       "    }\n",
       "\n",
       "    .dataframe thead th {\n",
       "        text-align: right;\n",
       "    }\n",
       "</style>\n",
       "<table border=\"1\" class=\"dataframe\">\n",
       "  <thead>\n",
       "    <tr style=\"text-align: right;\">\n",
       "      <th></th>\n",
       "      <th>model</th>\n",
       "      <th>year</th>\n",
       "      <th>price</th>\n",
       "      <th>transmission</th>\n",
       "      <th>mileage</th>\n",
       "      <th>fuelType</th>\n",
       "      <th>tax</th>\n",
       "      <th>mpg</th>\n",
       "      <th>engineSize</th>\n",
       "      <th>price_pred_median</th>\n",
       "      <th>price_pred_year_mean</th>\n",
       "      <th>price_pred_year_median</th>\n",
       "      <th>engine_group</th>\n",
       "      <th>price_pred_year_engine_median</th>\n",
       "    </tr>\n",
       "  </thead>\n",
       "  <tbody>\n",
       "    <tr>\n",
       "      <th>415</th>\n",
       "      <td>3 Series</td>\n",
       "      <td>1999</td>\n",
       "      <td>1200</td>\n",
       "      <td>Automatic</td>\n",
       "      <td>82000</td>\n",
       "      <td>Petrol</td>\n",
       "      <td>245</td>\n",
       "      <td>31.0</td>\n",
       "      <td>2.8</td>\n",
       "      <td>20022.0</td>\n",
       "      <td>3980.0</td>\n",
       "      <td>3995.0</td>\n",
       "      <td>&gt;2</td>\n",
       "      <td>NaN</td>\n",
       "    </tr>\n",
       "    <tr>\n",
       "      <th>2255</th>\n",
       "      <td>5 Series</td>\n",
       "      <td>2000</td>\n",
       "      <td>1699</td>\n",
       "      <td>Manual</td>\n",
       "      <td>99209</td>\n",
       "      <td>Petrol</td>\n",
       "      <td>265</td>\n",
       "      <td>29.4</td>\n",
       "      <td>2.0</td>\n",
       "      <td>20022.0</td>\n",
       "      <td>1550.0</td>\n",
       "      <td>1550.0</td>\n",
       "      <td>&lt;=2</td>\n",
       "      <td>NaN</td>\n",
       "    </tr>\n",
       "  </tbody>\n",
       "</table>\n",
       "</div>"
      ],
      "text/plain": [
       "          model  year  price transmission  mileage fuelType  tax   mpg  \\\n",
       "415    3 Series  1999   1200    Automatic    82000   Petrol  245  31.0   \n",
       "2255   5 Series  2000   1699       Manual    99209   Petrol  265  29.4   \n",
       "\n",
       "      engineSize  price_pred_median  price_pred_year_mean  \\\n",
       "415          2.8            20022.0                3980.0   \n",
       "2255         2.0            20022.0                1550.0   \n",
       "\n",
       "      price_pred_year_median engine_group  price_pred_year_engine_median  \n",
       "415                   3995.0           >2                            NaN  \n",
       "2255                  1550.0          <=2                            NaN  "
      ]
     },
     "execution_count": 211,
     "metadata": {},
     "output_type": "execute_result"
    }
   ],
   "source": [
    "test[test['price_pred_year_engine_median'].isna()]\n"
   ]
  },
  {
   "cell_type": "markdown",
   "metadata": {},
   "source": [
    "Да, есть 2 таких автомобиля. Так как таких авто всего 2, поэтому мы без потерь в качестве можем просто не учитывать эти авто в дальнейшем"
   ]
  },
  {
   "cell_type": "markdown",
   "metadata": {},
   "source": [
    "Скорипуем test без пропусков"
   ]
  },
  {
   "cell_type": "code",
   "execution_count": 214,
   "metadata": {},
   "outputs": [],
   "source": [
    "test_no_nan = test.dropna().copy()\n"
   ]
  },
  {
   "cell_type": "code",
   "execution_count": 217,
   "metadata": {},
   "outputs": [
    {
     "name": "stdout",
     "output_type": "stream",
     "text": [
      "5240.677299703264\n",
      "0.21478293590399475\n"
     ]
    }
   ],
   "source": [
    "error(test['price'], test['price_pred_year_median']) # Результат без показателя объема двигателя\n"
   ]
  },
  {
   "cell_type": "code",
   "execution_count": 216,
   "metadata": {},
   "outputs": [
    {
     "name": "stdout",
     "output_type": "stream",
     "text": [
      "3790.014291017075\n",
      "0.16270961023342095\n"
     ]
    }
   ],
   "source": [
    "error(test_no_nan['price'], test_no_nan['price_pred_year_engine_median']) # Результат с показателем объема двигателя\n"
   ]
  },
  {
   "cell_type": "markdown",
   "metadata": {},
   "source": [
    "На test результат получился также намного лучше, но немного хуже чем на train"
   ]
  },
  {
   "cell_type": "markdown",
   "metadata": {},
   "source": [
    "Улучшение модели"
   ]
  },
  {
   "cell_type": "markdown",
   "metadata": {},
   "source": [
    "Следующим шагом может быть добавление типа трансмиссии в модель. "
   ]
  },
  {
   "cell_type": "code",
   "execution_count": 218,
   "metadata": {},
   "outputs": [
    {
     "data": {
      "text/html": [
       "<div>\n",
       "<style scoped>\n",
       "    .dataframe tbody tr th:only-of-type {\n",
       "        vertical-align: middle;\n",
       "    }\n",
       "\n",
       "    .dataframe tbody tr th {\n",
       "        vertical-align: top;\n",
       "    }\n",
       "\n",
       "    .dataframe thead th {\n",
       "        text-align: right;\n",
       "    }\n",
       "</style>\n",
       "<table border=\"1\" class=\"dataframe\">\n",
       "  <thead>\n",
       "    <tr style=\"text-align: right;\">\n",
       "      <th></th>\n",
       "      <th>count</th>\n",
       "      <th>mean</th>\n",
       "      <th>median</th>\n",
       "    </tr>\n",
       "    <tr>\n",
       "      <th>transmission</th>\n",
       "      <th></th>\n",
       "      <th></th>\n",
       "      <th></th>\n",
       "    </tr>\n",
       "  </thead>\n",
       "  <tbody>\n",
       "    <tr>\n",
       "      <th>Automatic</th>\n",
       "      <td>2698</td>\n",
       "      <td>22413.452187</td>\n",
       "      <td>19392.0</td>\n",
       "    </tr>\n",
       "    <tr>\n",
       "      <th>Manual</th>\n",
       "      <td>1925</td>\n",
       "      <td>14557.851429</td>\n",
       "      <td>13450.0</td>\n",
       "    </tr>\n",
       "    <tr>\n",
       "      <th>Semi-Auto</th>\n",
       "      <td>3462</td>\n",
       "      <td>27377.835066</td>\n",
       "      <td>24990.0</td>\n",
       "    </tr>\n",
       "  </tbody>\n",
       "</table>\n",
       "</div>"
      ],
      "text/plain": [
       "              count          mean   median\n",
       "transmission                              \n",
       "Automatic      2698  22413.452187  19392.0\n",
       "Manual         1925  14557.851429  13450.0\n",
       "Semi-Auto      3462  27377.835066  24990.0"
      ]
     },
     "execution_count": 218,
     "metadata": {},
     "output_type": "execute_result"
    }
   ],
   "source": [
    "train.groupby('transmission')['price'].agg(['count', 'mean', 'median'])\n"
   ]
  },
  {
   "cell_type": "code",
   "execution_count": 219,
   "metadata": {},
   "outputs": [
    {
     "data": {
      "text/html": [
       "<div>\n",
       "<style scoped>\n",
       "    .dataframe tbody tr th:only-of-type {\n",
       "        vertical-align: middle;\n",
       "    }\n",
       "\n",
       "    .dataframe tbody tr th {\n",
       "        vertical-align: top;\n",
       "    }\n",
       "\n",
       "    .dataframe thead th {\n",
       "        text-align: right;\n",
       "    }\n",
       "</style>\n",
       "<table border=\"1\" class=\"dataframe\">\n",
       "  <thead>\n",
       "    <tr style=\"text-align: right;\">\n",
       "      <th></th>\n",
       "      <th>year</th>\n",
       "      <th>engine_group</th>\n",
       "      <th>price_pred_year_engine_median</th>\n",
       "    </tr>\n",
       "  </thead>\n",
       "  <tbody>\n",
       "    <tr>\n",
       "      <th>0</th>\n",
       "      <td>1996</td>\n",
       "      <td>&gt;2</td>\n",
       "      <td>5995.0</td>\n",
       "    </tr>\n",
       "    <tr>\n",
       "      <th>1</th>\n",
       "      <td>1997</td>\n",
       "      <td>&lt;=2</td>\n",
       "      <td>3950.0</td>\n",
       "    </tr>\n",
       "    <tr>\n",
       "      <th>2</th>\n",
       "      <td>1998</td>\n",
       "      <td>&lt;=2</td>\n",
       "      <td>3950.0</td>\n",
       "    </tr>\n",
       "    <tr>\n",
       "      <th>3</th>\n",
       "      <td>1999</td>\n",
       "      <td>&lt;=2</td>\n",
       "      <td>3995.0</td>\n",
       "    </tr>\n",
       "    <tr>\n",
       "      <th>4</th>\n",
       "      <td>2000</td>\n",
       "      <td>&gt;2</td>\n",
       "      <td>1550.0</td>\n",
       "    </tr>\n",
       "    <tr>\n",
       "      <th>5</th>\n",
       "      <td>2001</td>\n",
       "      <td>&lt;=1.5</td>\n",
       "      <td>13000.0</td>\n",
       "    </tr>\n",
       "    <tr>\n",
       "      <th>6</th>\n",
       "      <td>2001</td>\n",
       "      <td>&gt;2</td>\n",
       "      <td>4500.0</td>\n",
       "    </tr>\n",
       "    <tr>\n",
       "      <th>7</th>\n",
       "      <td>2002</td>\n",
       "      <td>&lt;=2</td>\n",
       "      <td>3999.0</td>\n",
       "    </tr>\n",
       "    <tr>\n",
       "      <th>8</th>\n",
       "      <td>2002</td>\n",
       "      <td>&gt;2</td>\n",
       "      <td>2990.0</td>\n",
       "    </tr>\n",
       "    <tr>\n",
       "      <th>9</th>\n",
       "      <td>2003</td>\n",
       "      <td>&gt;2</td>\n",
       "      <td>9222.5</td>\n",
       "    </tr>\n",
       "    <tr>\n",
       "      <th>10</th>\n",
       "      <td>2004</td>\n",
       "      <td>&lt;=2</td>\n",
       "      <td>1970.0</td>\n",
       "    </tr>\n",
       "    <tr>\n",
       "      <th>11</th>\n",
       "      <td>2004</td>\n",
       "      <td>&gt;2</td>\n",
       "      <td>8750.0</td>\n",
       "    </tr>\n",
       "    <tr>\n",
       "      <th>12</th>\n",
       "      <td>2005</td>\n",
       "      <td>&lt;=2</td>\n",
       "      <td>4375.0</td>\n",
       "    </tr>\n",
       "    <tr>\n",
       "      <th>13</th>\n",
       "      <td>2005</td>\n",
       "      <td>&gt;2</td>\n",
       "      <td>4995.0</td>\n",
       "    </tr>\n",
       "    <tr>\n",
       "      <th>14</th>\n",
       "      <td>2006</td>\n",
       "      <td>&lt;=2</td>\n",
       "      <td>2992.5</td>\n",
       "    </tr>\n",
       "    <tr>\n",
       "      <th>15</th>\n",
       "      <td>2006</td>\n",
       "      <td>&gt;2</td>\n",
       "      <td>5344.5</td>\n",
       "    </tr>\n",
       "    <tr>\n",
       "      <th>16</th>\n",
       "      <td>2007</td>\n",
       "      <td>&lt;=2</td>\n",
       "      <td>3495.0</td>\n",
       "    </tr>\n",
       "    <tr>\n",
       "      <th>17</th>\n",
       "      <td>2007</td>\n",
       "      <td>&gt;2</td>\n",
       "      <td>5994.0</td>\n",
       "    </tr>\n",
       "    <tr>\n",
       "      <th>18</th>\n",
       "      <td>2008</td>\n",
       "      <td>&lt;=2</td>\n",
       "      <td>3992.5</td>\n",
       "    </tr>\n",
       "    <tr>\n",
       "      <th>19</th>\n",
       "      <td>2008</td>\n",
       "      <td>&gt;2</td>\n",
       "      <td>7642.5</td>\n",
       "    </tr>\n",
       "    <tr>\n",
       "      <th>20</th>\n",
       "      <td>2009</td>\n",
       "      <td>&lt;=2</td>\n",
       "      <td>4740.0</td>\n",
       "    </tr>\n",
       "    <tr>\n",
       "      <th>21</th>\n",
       "      <td>2009</td>\n",
       "      <td>&gt;2</td>\n",
       "      <td>9490.0</td>\n",
       "    </tr>\n",
       "    <tr>\n",
       "      <th>22</th>\n",
       "      <td>2010</td>\n",
       "      <td>&lt;=2</td>\n",
       "      <td>5995.0</td>\n",
       "    </tr>\n",
       "    <tr>\n",
       "      <th>23</th>\n",
       "      <td>2010</td>\n",
       "      <td>&gt;2</td>\n",
       "      <td>9125.0</td>\n",
       "    </tr>\n",
       "    <tr>\n",
       "      <th>24</th>\n",
       "      <td>2011</td>\n",
       "      <td>&lt;=2</td>\n",
       "      <td>7624.0</td>\n",
       "    </tr>\n",
       "    <tr>\n",
       "      <th>25</th>\n",
       "      <td>2011</td>\n",
       "      <td>&gt;2</td>\n",
       "      <td>10500.0</td>\n",
       "    </tr>\n",
       "    <tr>\n",
       "      <th>26</th>\n",
       "      <td>2012</td>\n",
       "      <td>&lt;=2</td>\n",
       "      <td>8500.0</td>\n",
       "    </tr>\n",
       "    <tr>\n",
       "      <th>27</th>\n",
       "      <td>2012</td>\n",
       "      <td>&gt;2</td>\n",
       "      <td>12970.0</td>\n",
       "    </tr>\n",
       "    <tr>\n",
       "      <th>28</th>\n",
       "      <td>2013</td>\n",
       "      <td>&lt;=2</td>\n",
       "      <td>9990.0</td>\n",
       "    </tr>\n",
       "    <tr>\n",
       "      <th>29</th>\n",
       "      <td>2013</td>\n",
       "      <td>&gt;2</td>\n",
       "      <td>15895.5</td>\n",
       "    </tr>\n",
       "    <tr>\n",
       "      <th>30</th>\n",
       "      <td>2014</td>\n",
       "      <td>&lt;=1.5</td>\n",
       "      <td>14972.5</td>\n",
       "    </tr>\n",
       "    <tr>\n",
       "      <th>31</th>\n",
       "      <td>2014</td>\n",
       "      <td>&lt;=2</td>\n",
       "      <td>11945.0</td>\n",
       "    </tr>\n",
       "    <tr>\n",
       "      <th>32</th>\n",
       "      <td>2014</td>\n",
       "      <td>&gt;2</td>\n",
       "      <td>16656.0</td>\n",
       "    </tr>\n",
       "    <tr>\n",
       "      <th>33</th>\n",
       "      <td>2015</td>\n",
       "      <td>&lt;=1.5</td>\n",
       "      <td>10999.0</td>\n",
       "    </tr>\n",
       "    <tr>\n",
       "      <th>34</th>\n",
       "      <td>2015</td>\n",
       "      <td>&lt;=2</td>\n",
       "      <td>13490.0</td>\n",
       "    </tr>\n",
       "    <tr>\n",
       "      <th>35</th>\n",
       "      <td>2015</td>\n",
       "      <td>&gt;2</td>\n",
       "      <td>18144.5</td>\n",
       "    </tr>\n",
       "    <tr>\n",
       "      <th>36</th>\n",
       "      <td>2016</td>\n",
       "      <td>&lt;=1.5</td>\n",
       "      <td>11809.0</td>\n",
       "    </tr>\n",
       "    <tr>\n",
       "      <th>37</th>\n",
       "      <td>2016</td>\n",
       "      <td>&lt;=2</td>\n",
       "      <td>15500.0</td>\n",
       "    </tr>\n",
       "    <tr>\n",
       "      <th>38</th>\n",
       "      <td>2016</td>\n",
       "      <td>&gt;2</td>\n",
       "      <td>19996.5</td>\n",
       "    </tr>\n",
       "    <tr>\n",
       "      <th>39</th>\n",
       "      <td>2017</td>\n",
       "      <td>&lt;=1.5</td>\n",
       "      <td>14292.5</td>\n",
       "    </tr>\n",
       "    <tr>\n",
       "      <th>40</th>\n",
       "      <td>2017</td>\n",
       "      <td>&lt;=2</td>\n",
       "      <td>17625.0</td>\n",
       "    </tr>\n",
       "    <tr>\n",
       "      <th>41</th>\n",
       "      <td>2017</td>\n",
       "      <td>&gt;2</td>\n",
       "      <td>22980.5</td>\n",
       "    </tr>\n",
       "    <tr>\n",
       "      <th>42</th>\n",
       "      <td>2018</td>\n",
       "      <td>&lt;=1.5</td>\n",
       "      <td>16500.0</td>\n",
       "    </tr>\n",
       "    <tr>\n",
       "      <th>43</th>\n",
       "      <td>2018</td>\n",
       "      <td>&lt;=2</td>\n",
       "      <td>20750.0</td>\n",
       "    </tr>\n",
       "    <tr>\n",
       "      <th>44</th>\n",
       "      <td>2018</td>\n",
       "      <td>&gt;2</td>\n",
       "      <td>27980.0</td>\n",
       "    </tr>\n",
       "    <tr>\n",
       "      <th>45</th>\n",
       "      <td>2019</td>\n",
       "      <td>&lt;=1.5</td>\n",
       "      <td>20980.0</td>\n",
       "    </tr>\n",
       "    <tr>\n",
       "      <th>46</th>\n",
       "      <td>2019</td>\n",
       "      <td>&lt;=2</td>\n",
       "      <td>27294.0</td>\n",
       "    </tr>\n",
       "    <tr>\n",
       "      <th>47</th>\n",
       "      <td>2019</td>\n",
       "      <td>&gt;2</td>\n",
       "      <td>45980.0</td>\n",
       "    </tr>\n",
       "    <tr>\n",
       "      <th>48</th>\n",
       "      <td>2020</td>\n",
       "      <td>&lt;=1.5</td>\n",
       "      <td>23995.0</td>\n",
       "    </tr>\n",
       "    <tr>\n",
       "      <th>49</th>\n",
       "      <td>2020</td>\n",
       "      <td>&lt;=2</td>\n",
       "      <td>30995.0</td>\n",
       "    </tr>\n",
       "    <tr>\n",
       "      <th>50</th>\n",
       "      <td>2020</td>\n",
       "      <td>&gt;2</td>\n",
       "      <td>48560.0</td>\n",
       "    </tr>\n",
       "  </tbody>\n",
       "</table>\n",
       "</div>"
      ],
      "text/plain": [
       "    year engine_group  price_pred_year_engine_median\n",
       "0   1996           >2                         5995.0\n",
       "1   1997          <=2                         3950.0\n",
       "2   1998          <=2                         3950.0\n",
       "3   1999          <=2                         3995.0\n",
       "4   2000           >2                         1550.0\n",
       "5   2001        <=1.5                        13000.0\n",
       "6   2001           >2                         4500.0\n",
       "7   2002          <=2                         3999.0\n",
       "8   2002           >2                         2990.0\n",
       "9   2003           >2                         9222.5\n",
       "10  2004          <=2                         1970.0\n",
       "11  2004           >2                         8750.0\n",
       "12  2005          <=2                         4375.0\n",
       "13  2005           >2                         4995.0\n",
       "14  2006          <=2                         2992.5\n",
       "15  2006           >2                         5344.5\n",
       "16  2007          <=2                         3495.0\n",
       "17  2007           >2                         5994.0\n",
       "18  2008          <=2                         3992.5\n",
       "19  2008           >2                         7642.5\n",
       "20  2009          <=2                         4740.0\n",
       "21  2009           >2                         9490.0\n",
       "22  2010          <=2                         5995.0\n",
       "23  2010           >2                         9125.0\n",
       "24  2011          <=2                         7624.0\n",
       "25  2011           >2                        10500.0\n",
       "26  2012          <=2                         8500.0\n",
       "27  2012           >2                        12970.0\n",
       "28  2013          <=2                         9990.0\n",
       "29  2013           >2                        15895.5\n",
       "30  2014        <=1.5                        14972.5\n",
       "31  2014          <=2                        11945.0\n",
       "32  2014           >2                        16656.0\n",
       "33  2015        <=1.5                        10999.0\n",
       "34  2015          <=2                        13490.0\n",
       "35  2015           >2                        18144.5\n",
       "36  2016        <=1.5                        11809.0\n",
       "37  2016          <=2                        15500.0\n",
       "38  2016           >2                        19996.5\n",
       "39  2017        <=1.5                        14292.5\n",
       "40  2017          <=2                        17625.0\n",
       "41  2017           >2                        22980.5\n",
       "42  2018        <=1.5                        16500.0\n",
       "43  2018          <=2                        20750.0\n",
       "44  2018           >2                        27980.0\n",
       "45  2019        <=1.5                        20980.0\n",
       "46  2019          <=2                        27294.0\n",
       "47  2019           >2                        45980.0\n",
       "48  2020        <=1.5                        23995.0\n",
       "49  2020          <=2                        30995.0\n",
       "50  2020           >2                        48560.0"
      ]
     },
     "execution_count": 219,
     "metadata": {},
     "output_type": "execute_result"
    }
   ],
   "source": [
    "model_year_engine_median\n"
   ]
  },
  {
   "cell_type": "code",
   "execution_count": 220,
   "metadata": {},
   "outputs": [
    {
     "data": {
      "text/html": [
       "<div>\n",
       "<style scoped>\n",
       "    .dataframe tbody tr th:only-of-type {\n",
       "        vertical-align: middle;\n",
       "    }\n",
       "\n",
       "    .dataframe tbody tr th {\n",
       "        vertical-align: top;\n",
       "    }\n",
       "\n",
       "    .dataframe thead th {\n",
       "        text-align: right;\n",
       "    }\n",
       "</style>\n",
       "<table border=\"1\" class=\"dataframe\">\n",
       "  <thead>\n",
       "    <tr style=\"text-align: right;\">\n",
       "      <th></th>\n",
       "      <th>count</th>\n",
       "      <th>median</th>\n",
       "    </tr>\n",
       "    <tr>\n",
       "      <th>year</th>\n",
       "      <th></th>\n",
       "      <th></th>\n",
       "    </tr>\n",
       "  </thead>\n",
       "  <tbody>\n",
       "    <tr>\n",
       "      <th>1996</th>\n",
       "      <td>1</td>\n",
       "      <td>5995.0</td>\n",
       "    </tr>\n",
       "    <tr>\n",
       "      <th>1997</th>\n",
       "      <td>1</td>\n",
       "      <td>3950.0</td>\n",
       "    </tr>\n",
       "    <tr>\n",
       "      <th>1998</th>\n",
       "      <td>1</td>\n",
       "      <td>3950.0</td>\n",
       "    </tr>\n",
       "    <tr>\n",
       "      <th>1999</th>\n",
       "      <td>3</td>\n",
       "      <td>3995.0</td>\n",
       "    </tr>\n",
       "    <tr>\n",
       "      <th>2000</th>\n",
       "      <td>1</td>\n",
       "      <td>1550.0</td>\n",
       "    </tr>\n",
       "    <tr>\n",
       "      <th>2001</th>\n",
       "      <td>3</td>\n",
       "      <td>5950.0</td>\n",
       "    </tr>\n",
       "    <tr>\n",
       "      <th>2002</th>\n",
       "      <td>4</td>\n",
       "      <td>3494.5</td>\n",
       "    </tr>\n",
       "    <tr>\n",
       "      <th>2003</th>\n",
       "      <td>2</td>\n",
       "      <td>9222.5</td>\n",
       "    </tr>\n",
       "    <tr>\n",
       "      <th>2004</th>\n",
       "      <td>7</td>\n",
       "      <td>3495.0</td>\n",
       "    </tr>\n",
       "    <tr>\n",
       "      <th>2005</th>\n",
       "      <td>6</td>\n",
       "      <td>4685.0</td>\n",
       "    </tr>\n",
       "    <tr>\n",
       "      <th>2006</th>\n",
       "      <td>12</td>\n",
       "      <td>3942.5</td>\n",
       "    </tr>\n",
       "    <tr>\n",
       "      <th>2007</th>\n",
       "      <td>12</td>\n",
       "      <td>4597.5</td>\n",
       "    </tr>\n",
       "    <tr>\n",
       "      <th>2008</th>\n",
       "      <td>18</td>\n",
       "      <td>5272.5</td>\n",
       "    </tr>\n",
       "    <tr>\n",
       "      <th>2009</th>\n",
       "      <td>22</td>\n",
       "      <td>5845.0</td>\n",
       "    </tr>\n",
       "    <tr>\n",
       "      <th>2010</th>\n",
       "      <td>31</td>\n",
       "      <td>6495.0</td>\n",
       "    </tr>\n",
       "    <tr>\n",
       "      <th>2011</th>\n",
       "      <td>37</td>\n",
       "      <td>8470.0</td>\n",
       "    </tr>\n",
       "    <tr>\n",
       "      <th>2012</th>\n",
       "      <td>92</td>\n",
       "      <td>8990.0</td>\n",
       "    </tr>\n",
       "    <tr>\n",
       "      <th>2013</th>\n",
       "      <td>253</td>\n",
       "      <td>10490.0</td>\n",
       "    </tr>\n",
       "    <tr>\n",
       "      <th>2014</th>\n",
       "      <td>384</td>\n",
       "      <td>12797.5</td>\n",
       "    </tr>\n",
       "    <tr>\n",
       "      <th>2015</th>\n",
       "      <td>716</td>\n",
       "      <td>14103.5</td>\n",
       "    </tr>\n",
       "    <tr>\n",
       "      <th>2016</th>\n",
       "      <td>1398</td>\n",
       "      <td>15699.5</td>\n",
       "    </tr>\n",
       "    <tr>\n",
       "      <th>2017</th>\n",
       "      <td>1296</td>\n",
       "      <td>18299.5</td>\n",
       "    </tr>\n",
       "    <tr>\n",
       "      <th>2018</th>\n",
       "      <td>635</td>\n",
       "      <td>21000.0</td>\n",
       "    </tr>\n",
       "    <tr>\n",
       "      <th>2019</th>\n",
       "      <td>2598</td>\n",
       "      <td>27980.0</td>\n",
       "    </tr>\n",
       "    <tr>\n",
       "      <th>2020</th>\n",
       "      <td>552</td>\n",
       "      <td>32450.5</td>\n",
       "    </tr>\n",
       "  </tbody>\n",
       "</table>\n",
       "</div>"
      ],
      "text/plain": [
       "      count   median\n",
       "year                \n",
       "1996      1   5995.0\n",
       "1997      1   3950.0\n",
       "1998      1   3950.0\n",
       "1999      3   3995.0\n",
       "2000      1   1550.0\n",
       "2001      3   5950.0\n",
       "2002      4   3494.5\n",
       "2003      2   9222.5\n",
       "2004      7   3495.0\n",
       "2005      6   4685.0\n",
       "2006     12   3942.5\n",
       "2007     12   4597.5\n",
       "2008     18   5272.5\n",
       "2009     22   5845.0\n",
       "2010     31   6495.0\n",
       "2011     37   8470.0\n",
       "2012     92   8990.0\n",
       "2013    253  10490.0\n",
       "2014    384  12797.5\n",
       "2015    716  14103.5\n",
       "2016   1398  15699.5\n",
       "2017   1296  18299.5\n",
       "2018    635  21000.0\n",
       "2019   2598  27980.0\n",
       "2020    552  32450.5"
      ]
     },
     "execution_count": 220,
     "metadata": {},
     "output_type": "execute_result"
    }
   ],
   "source": [
    "train.groupby('year')['price'].agg(['count', 'median'])\n"
   ]
  },
  {
   "cell_type": "markdown",
   "metadata": {},
   "source": [
    "Но модель уже достаточно большая и мы получим пропуски, так как автомобилей до 2010 года совсем мало. Поэтому сначала объединим авто в группы: до 2010 года и далее с шагом в 2 года."
   ]
  },
  {
   "cell_type": "code",
   "execution_count": 221,
   "metadata": {},
   "outputs": [],
   "source": [
    "train['year_group'] = pd.cut(train['year'], [0, 2010,2012,2014,2016,2018,float('inf')])\n"
   ]
  },
  {
   "cell_type": "code",
   "execution_count": 222,
   "metadata": {},
   "outputs": [
    {
     "data": {
      "text/html": [
       "<div>\n",
       "<style scoped>\n",
       "    .dataframe tbody tr th:only-of-type {\n",
       "        vertical-align: middle;\n",
       "    }\n",
       "\n",
       "    .dataframe tbody tr th {\n",
       "        vertical-align: top;\n",
       "    }\n",
       "\n",
       "    .dataframe thead th {\n",
       "        text-align: right;\n",
       "    }\n",
       "</style>\n",
       "<table border=\"1\" class=\"dataframe\">\n",
       "  <thead>\n",
       "    <tr style=\"text-align: right;\">\n",
       "      <th></th>\n",
       "      <th>count</th>\n",
       "      <th>median</th>\n",
       "    </tr>\n",
       "    <tr>\n",
       "      <th>year_group</th>\n",
       "      <th></th>\n",
       "      <th></th>\n",
       "    </tr>\n",
       "  </thead>\n",
       "  <tbody>\n",
       "    <tr>\n",
       "      <th>(0.0, 2010.0]</th>\n",
       "      <td>124</td>\n",
       "      <td>5584.0</td>\n",
       "    </tr>\n",
       "    <tr>\n",
       "      <th>(2010.0, 2012.0]</th>\n",
       "      <td>129</td>\n",
       "      <td>8985.0</td>\n",
       "    </tr>\n",
       "    <tr>\n",
       "      <th>(2012.0, 2014.0]</th>\n",
       "      <td>637</td>\n",
       "      <td>11695.0</td>\n",
       "    </tr>\n",
       "    <tr>\n",
       "      <th>(2014.0, 2016.0]</th>\n",
       "      <td>2114</td>\n",
       "      <td>15080.5</td>\n",
       "    </tr>\n",
       "    <tr>\n",
       "      <th>(2016.0, 2018.0]</th>\n",
       "      <td>1931</td>\n",
       "      <td>19370.0</td>\n",
       "    </tr>\n",
       "    <tr>\n",
       "      <th>(2018.0, inf]</th>\n",
       "      <td>3150</td>\n",
       "      <td>28867.5</td>\n",
       "    </tr>\n",
       "  </tbody>\n",
       "</table>\n",
       "</div>"
      ],
      "text/plain": [
       "                  count   median\n",
       "year_group                      \n",
       "(0.0, 2010.0]       124   5584.0\n",
       "(2010.0, 2012.0]    129   8985.0\n",
       "(2012.0, 2014.0]    637  11695.0\n",
       "(2014.0, 2016.0]   2114  15080.5\n",
       "(2016.0, 2018.0]   1931  19370.0\n",
       "(2018.0, inf]      3150  28867.5"
      ]
     },
     "execution_count": 222,
     "metadata": {},
     "output_type": "execute_result"
    }
   ],
   "source": [
    "train.groupby('year_group')['price'].agg(['count', 'median'])\n"
   ]
  },
  {
   "cell_type": "markdown",
   "metadata": {},
   "source": [
    "Создадим модель и примерджим модель к train"
   ]
  },
  {
   "cell_type": "code",
   "execution_count": 223,
   "metadata": {},
   "outputs": [],
   "source": [
    "model_year_engine_group_median = train.groupby(['year_group', 'engine_group'])['price'].median().reset_index()\n"
   ]
  },
  {
   "cell_type": "code",
   "execution_count": 224,
   "metadata": {},
   "outputs": [],
   "source": [
    "model_year_engine_group_median = model_year_engine_group_median.rename({'price' : 'pred_price_year_engine_group_median'},axis = 1)\n"
   ]
  },
  {
   "cell_type": "code",
   "execution_count": 225,
   "metadata": {},
   "outputs": [],
   "source": [
    "train = train.merge(model_year_engine_group_median, how = 'left', on = ['year_group', 'engine_group'])\n"
   ]
  },
  {
   "cell_type": "markdown",
   "metadata": {},
   "source": [
    "Сравним результат"
   ]
  },
  {
   "cell_type": "code",
   "execution_count": 226,
   "metadata": {},
   "outputs": [
    {
     "name": "stdout",
     "output_type": "stream",
     "text": [
      "3659.774273345702\n",
      "0.1582922021242831\n"
     ]
    }
   ],
   "source": [
    "error(train['price'], train['price_pred_year_engine_median'])\n"
   ]
  },
  {
   "cell_type": "code",
   "execution_count": 227,
   "metadata": {},
   "outputs": [
    {
     "name": "stdout",
     "output_type": "stream",
     "text": [
      "3827.4336425479282\n",
      "0.1693848259731495\n"
     ]
    }
   ],
   "source": [
    "error(train['price'], train['pred_price_year_engine_group_median'])\n"
   ]
  },
  {
   "cell_type": "markdown",
   "metadata": {},
   "source": [
    "Мы совсем немного потеряли в качестве, но теперь будет проще улучшать модель, добавим трансмиссию"
   ]
  },
  {
   "cell_type": "markdown",
   "metadata": {},
   "source": [
    "Создаем модель с трансмиссией"
   ]
  },
  {
   "cell_type": "code",
   "execution_count": 228,
   "metadata": {},
   "outputs": [],
   "source": [
    "model_year_engine_trn_group_median = train.groupby(['year_group', 'engine_group', 'transmission'])['price'].median().reset_index()\n"
   ]
  },
  {
   "cell_type": "code",
   "execution_count": 229,
   "metadata": {},
   "outputs": [
    {
     "data": {
      "text/html": [
       "<div>\n",
       "<style scoped>\n",
       "    .dataframe tbody tr th:only-of-type {\n",
       "        vertical-align: middle;\n",
       "    }\n",
       "\n",
       "    .dataframe tbody tr th {\n",
       "        vertical-align: top;\n",
       "    }\n",
       "\n",
       "    .dataframe thead th {\n",
       "        text-align: right;\n",
       "    }\n",
       "</style>\n",
       "<table border=\"1\" class=\"dataframe\">\n",
       "  <thead>\n",
       "    <tr style=\"text-align: right;\">\n",
       "      <th></th>\n",
       "      <th>year_group</th>\n",
       "      <th>engine_group</th>\n",
       "      <th>transmission</th>\n",
       "      <th>price</th>\n",
       "    </tr>\n",
       "  </thead>\n",
       "  <tbody>\n",
       "    <tr>\n",
       "      <th>0</th>\n",
       "      <td>(0.0, 2010.0]</td>\n",
       "      <td>&lt;=1.5</td>\n",
       "      <td>Automatic</td>\n",
       "      <td>NaN</td>\n",
       "    </tr>\n",
       "    <tr>\n",
       "      <th>1</th>\n",
       "      <td>(0.0, 2010.0]</td>\n",
       "      <td>&lt;=1.5</td>\n",
       "      <td>Manual</td>\n",
       "      <td>13000.0</td>\n",
       "    </tr>\n",
       "    <tr>\n",
       "      <th>2</th>\n",
       "      <td>(0.0, 2010.0]</td>\n",
       "      <td>&lt;=1.5</td>\n",
       "      <td>Semi-Auto</td>\n",
       "      <td>NaN</td>\n",
       "    </tr>\n",
       "    <tr>\n",
       "      <th>3</th>\n",
       "      <td>(0.0, 2010.0]</td>\n",
       "      <td>&lt;=2</td>\n",
       "      <td>Automatic</td>\n",
       "      <td>5982.5</td>\n",
       "    </tr>\n",
       "    <tr>\n",
       "      <th>4</th>\n",
       "      <td>(0.0, 2010.0]</td>\n",
       "      <td>&lt;=2</td>\n",
       "      <td>Manual</td>\n",
       "      <td>3995.0</td>\n",
       "    </tr>\n",
       "    <tr>\n",
       "      <th>5</th>\n",
       "      <td>(0.0, 2010.0]</td>\n",
       "      <td>&lt;=2</td>\n",
       "      <td>Semi-Auto</td>\n",
       "      <td>5695.0</td>\n",
       "    </tr>\n",
       "    <tr>\n",
       "      <th>6</th>\n",
       "      <td>(0.0, 2010.0]</td>\n",
       "      <td>&gt;2</td>\n",
       "      <td>Automatic</td>\n",
       "      <td>5997.0</td>\n",
       "    </tr>\n",
       "    <tr>\n",
       "      <th>7</th>\n",
       "      <td>(0.0, 2010.0]</td>\n",
       "      <td>&gt;2</td>\n",
       "      <td>Manual</td>\n",
       "      <td>8800.0</td>\n",
       "    </tr>\n",
       "    <tr>\n",
       "      <th>8</th>\n",
       "      <td>(0.0, 2010.0]</td>\n",
       "      <td>&gt;2</td>\n",
       "      <td>Semi-Auto</td>\n",
       "      <td>10995.0</td>\n",
       "    </tr>\n",
       "    <tr>\n",
       "      <th>9</th>\n",
       "      <td>(2010.0, 2012.0]</td>\n",
       "      <td>&lt;=1.5</td>\n",
       "      <td>Automatic</td>\n",
       "      <td>NaN</td>\n",
       "    </tr>\n",
       "    <tr>\n",
       "      <th>10</th>\n",
       "      <td>(2010.0, 2012.0]</td>\n",
       "      <td>&lt;=1.5</td>\n",
       "      <td>Manual</td>\n",
       "      <td>NaN</td>\n",
       "    </tr>\n",
       "    <tr>\n",
       "      <th>11</th>\n",
       "      <td>(2010.0, 2012.0]</td>\n",
       "      <td>&lt;=1.5</td>\n",
       "      <td>Semi-Auto</td>\n",
       "      <td>NaN</td>\n",
       "    </tr>\n",
       "    <tr>\n",
       "      <th>12</th>\n",
       "      <td>(2010.0, 2012.0]</td>\n",
       "      <td>&lt;=2</td>\n",
       "      <td>Automatic</td>\n",
       "      <td>9440.0</td>\n",
       "    </tr>\n",
       "    <tr>\n",
       "      <th>13</th>\n",
       "      <td>(2010.0, 2012.0]</td>\n",
       "      <td>&lt;=2</td>\n",
       "      <td>Manual</td>\n",
       "      <td>7490.0</td>\n",
       "    </tr>\n",
       "    <tr>\n",
       "      <th>14</th>\n",
       "      <td>(2010.0, 2012.0]</td>\n",
       "      <td>&lt;=2</td>\n",
       "      <td>Semi-Auto</td>\n",
       "      <td>NaN</td>\n",
       "    </tr>\n",
       "    <tr>\n",
       "      <th>15</th>\n",
       "      <td>(2010.0, 2012.0]</td>\n",
       "      <td>&gt;2</td>\n",
       "      <td>Automatic</td>\n",
       "      <td>12245.0</td>\n",
       "    </tr>\n",
       "    <tr>\n",
       "      <th>16</th>\n",
       "      <td>(2010.0, 2012.0]</td>\n",
       "      <td>&gt;2</td>\n",
       "      <td>Manual</td>\n",
       "      <td>NaN</td>\n",
       "    </tr>\n",
       "    <tr>\n",
       "      <th>17</th>\n",
       "      <td>(2010.0, 2012.0]</td>\n",
       "      <td>&gt;2</td>\n",
       "      <td>Semi-Auto</td>\n",
       "      <td>NaN</td>\n",
       "    </tr>\n",
       "    <tr>\n",
       "      <th>18</th>\n",
       "      <td>(2012.0, 2014.0]</td>\n",
       "      <td>&lt;=1.5</td>\n",
       "      <td>Automatic</td>\n",
       "      <td>14972.5</td>\n",
       "    </tr>\n",
       "    <tr>\n",
       "      <th>19</th>\n",
       "      <td>(2012.0, 2014.0]</td>\n",
       "      <td>&lt;=1.5</td>\n",
       "      <td>Manual</td>\n",
       "      <td>NaN</td>\n",
       "    </tr>\n",
       "    <tr>\n",
       "      <th>20</th>\n",
       "      <td>(2012.0, 2014.0]</td>\n",
       "      <td>&lt;=1.5</td>\n",
       "      <td>Semi-Auto</td>\n",
       "      <td>NaN</td>\n",
       "    </tr>\n",
       "    <tr>\n",
       "      <th>21</th>\n",
       "      <td>(2012.0, 2014.0]</td>\n",
       "      <td>&lt;=2</td>\n",
       "      <td>Automatic</td>\n",
       "      <td>11499.0</td>\n",
       "    </tr>\n",
       "    <tr>\n",
       "      <th>22</th>\n",
       "      <td>(2012.0, 2014.0]</td>\n",
       "      <td>&lt;=2</td>\n",
       "      <td>Manual</td>\n",
       "      <td>9940.0</td>\n",
       "    </tr>\n",
       "    <tr>\n",
       "      <th>23</th>\n",
       "      <td>(2012.0, 2014.0]</td>\n",
       "      <td>&lt;=2</td>\n",
       "      <td>Semi-Auto</td>\n",
       "      <td>12655.5</td>\n",
       "    </tr>\n",
       "    <tr>\n",
       "      <th>24</th>\n",
       "      <td>(2012.0, 2014.0]</td>\n",
       "      <td>&gt;2</td>\n",
       "      <td>Automatic</td>\n",
       "      <td>16990.0</td>\n",
       "    </tr>\n",
       "    <tr>\n",
       "      <th>25</th>\n",
       "      <td>(2012.0, 2014.0]</td>\n",
       "      <td>&gt;2</td>\n",
       "      <td>Manual</td>\n",
       "      <td>13898.5</td>\n",
       "    </tr>\n",
       "    <tr>\n",
       "      <th>26</th>\n",
       "      <td>(2012.0, 2014.0]</td>\n",
       "      <td>&gt;2</td>\n",
       "      <td>Semi-Auto</td>\n",
       "      <td>15991.0</td>\n",
       "    </tr>\n",
       "    <tr>\n",
       "      <th>27</th>\n",
       "      <td>(2014.0, 2016.0]</td>\n",
       "      <td>&lt;=1.5</td>\n",
       "      <td>Automatic</td>\n",
       "      <td>14285.0</td>\n",
       "    </tr>\n",
       "    <tr>\n",
       "      <th>28</th>\n",
       "      <td>(2014.0, 2016.0]</td>\n",
       "      <td>&lt;=1.5</td>\n",
       "      <td>Manual</td>\n",
       "      <td>11000.5</td>\n",
       "    </tr>\n",
       "    <tr>\n",
       "      <th>29</th>\n",
       "      <td>(2014.0, 2016.0]</td>\n",
       "      <td>&lt;=1.5</td>\n",
       "      <td>Semi-Auto</td>\n",
       "      <td>14107.5</td>\n",
       "    </tr>\n",
       "    <tr>\n",
       "      <th>30</th>\n",
       "      <td>(2014.0, 2016.0]</td>\n",
       "      <td>&lt;=2</td>\n",
       "      <td>Automatic</td>\n",
       "      <td>14985.0</td>\n",
       "    </tr>\n",
       "    <tr>\n",
       "      <th>31</th>\n",
       "      <td>(2014.0, 2016.0]</td>\n",
       "      <td>&lt;=2</td>\n",
       "      <td>Manual</td>\n",
       "      <td>12999.0</td>\n",
       "    </tr>\n",
       "    <tr>\n",
       "      <th>32</th>\n",
       "      <td>(2014.0, 2016.0]</td>\n",
       "      <td>&lt;=2</td>\n",
       "      <td>Semi-Auto</td>\n",
       "      <td>16990.0</td>\n",
       "    </tr>\n",
       "    <tr>\n",
       "      <th>33</th>\n",
       "      <td>(2014.0, 2016.0]</td>\n",
       "      <td>&gt;2</td>\n",
       "      <td>Automatic</td>\n",
       "      <td>19245.0</td>\n",
       "    </tr>\n",
       "    <tr>\n",
       "      <th>34</th>\n",
       "      <td>(2014.0, 2016.0]</td>\n",
       "      <td>&gt;2</td>\n",
       "      <td>Manual</td>\n",
       "      <td>17480.0</td>\n",
       "    </tr>\n",
       "    <tr>\n",
       "      <th>35</th>\n",
       "      <td>(2014.0, 2016.0]</td>\n",
       "      <td>&gt;2</td>\n",
       "      <td>Semi-Auto</td>\n",
       "      <td>19898.0</td>\n",
       "    </tr>\n",
       "    <tr>\n",
       "      <th>36</th>\n",
       "      <td>(2016.0, 2018.0]</td>\n",
       "      <td>&lt;=1.5</td>\n",
       "      <td>Automatic</td>\n",
       "      <td>16449.5</td>\n",
       "    </tr>\n",
       "    <tr>\n",
       "      <th>37</th>\n",
       "      <td>(2016.0, 2018.0]</td>\n",
       "      <td>&lt;=1.5</td>\n",
       "      <td>Manual</td>\n",
       "      <td>13980.0</td>\n",
       "    </tr>\n",
       "    <tr>\n",
       "      <th>38</th>\n",
       "      <td>(2016.0, 2018.0]</td>\n",
       "      <td>&lt;=1.5</td>\n",
       "      <td>Semi-Auto</td>\n",
       "      <td>16480.0</td>\n",
       "    </tr>\n",
       "    <tr>\n",
       "      <th>39</th>\n",
       "      <td>(2016.0, 2018.0]</td>\n",
       "      <td>&lt;=2</td>\n",
       "      <td>Automatic</td>\n",
       "      <td>18690.0</td>\n",
       "    </tr>\n",
       "    <tr>\n",
       "      <th>40</th>\n",
       "      <td>(2016.0, 2018.0]</td>\n",
       "      <td>&lt;=2</td>\n",
       "      <td>Manual</td>\n",
       "      <td>15400.0</td>\n",
       "    </tr>\n",
       "    <tr>\n",
       "      <th>41</th>\n",
       "      <td>(2016.0, 2018.0]</td>\n",
       "      <td>&lt;=2</td>\n",
       "      <td>Semi-Auto</td>\n",
       "      <td>19995.0</td>\n",
       "    </tr>\n",
       "    <tr>\n",
       "      <th>42</th>\n",
       "      <td>(2016.0, 2018.0]</td>\n",
       "      <td>&gt;2</td>\n",
       "      <td>Automatic</td>\n",
       "      <td>24686.0</td>\n",
       "    </tr>\n",
       "    <tr>\n",
       "      <th>43</th>\n",
       "      <td>(2016.0, 2018.0]</td>\n",
       "      <td>&gt;2</td>\n",
       "      <td>Manual</td>\n",
       "      <td>20491.0</td>\n",
       "    </tr>\n",
       "    <tr>\n",
       "      <th>44</th>\n",
       "      <td>(2016.0, 2018.0]</td>\n",
       "      <td>&gt;2</td>\n",
       "      <td>Semi-Auto</td>\n",
       "      <td>24495.0</td>\n",
       "    </tr>\n",
       "    <tr>\n",
       "      <th>45</th>\n",
       "      <td>(2018.0, inf]</td>\n",
       "      <td>&lt;=1.5</td>\n",
       "      <td>Automatic</td>\n",
       "      <td>21450.0</td>\n",
       "    </tr>\n",
       "    <tr>\n",
       "      <th>46</th>\n",
       "      <td>(2018.0, inf]</td>\n",
       "      <td>&lt;=1.5</td>\n",
       "      <td>Manual</td>\n",
       "      <td>21225.0</td>\n",
       "    </tr>\n",
       "    <tr>\n",
       "      <th>47</th>\n",
       "      <td>(2018.0, inf]</td>\n",
       "      <td>&lt;=1.5</td>\n",
       "      <td>Semi-Auto</td>\n",
       "      <td>21950.0</td>\n",
       "    </tr>\n",
       "    <tr>\n",
       "      <th>48</th>\n",
       "      <td>(2018.0, inf]</td>\n",
       "      <td>&lt;=2</td>\n",
       "      <td>Automatic</td>\n",
       "      <td>28850.0</td>\n",
       "    </tr>\n",
       "    <tr>\n",
       "      <th>49</th>\n",
       "      <td>(2018.0, inf]</td>\n",
       "      <td>&lt;=2</td>\n",
       "      <td>Manual</td>\n",
       "      <td>24775.0</td>\n",
       "    </tr>\n",
       "    <tr>\n",
       "      <th>50</th>\n",
       "      <td>(2018.0, inf]</td>\n",
       "      <td>&lt;=2</td>\n",
       "      <td>Semi-Auto</td>\n",
       "      <td>27995.0</td>\n",
       "    </tr>\n",
       "    <tr>\n",
       "      <th>51</th>\n",
       "      <td>(2018.0, inf]</td>\n",
       "      <td>&gt;2</td>\n",
       "      <td>Automatic</td>\n",
       "      <td>44130.5</td>\n",
       "    </tr>\n",
       "    <tr>\n",
       "      <th>52</th>\n",
       "      <td>(2018.0, inf]</td>\n",
       "      <td>&gt;2</td>\n",
       "      <td>Manual</td>\n",
       "      <td>46000.0</td>\n",
       "    </tr>\n",
       "    <tr>\n",
       "      <th>53</th>\n",
       "      <td>(2018.0, inf]</td>\n",
       "      <td>&gt;2</td>\n",
       "      <td>Semi-Auto</td>\n",
       "      <td>46991.0</td>\n",
       "    </tr>\n",
       "  </tbody>\n",
       "</table>\n",
       "</div>"
      ],
      "text/plain": [
       "          year_group engine_group transmission    price\n",
       "0      (0.0, 2010.0]        <=1.5    Automatic      NaN\n",
       "1      (0.0, 2010.0]        <=1.5       Manual  13000.0\n",
       "2      (0.0, 2010.0]        <=1.5    Semi-Auto      NaN\n",
       "3      (0.0, 2010.0]          <=2    Automatic   5982.5\n",
       "4      (0.0, 2010.0]          <=2       Manual   3995.0\n",
       "5      (0.0, 2010.0]          <=2    Semi-Auto   5695.0\n",
       "6      (0.0, 2010.0]           >2    Automatic   5997.0\n",
       "7      (0.0, 2010.0]           >2       Manual   8800.0\n",
       "8      (0.0, 2010.0]           >2    Semi-Auto  10995.0\n",
       "9   (2010.0, 2012.0]        <=1.5    Automatic      NaN\n",
       "10  (2010.0, 2012.0]        <=1.5       Manual      NaN\n",
       "11  (2010.0, 2012.0]        <=1.5    Semi-Auto      NaN\n",
       "12  (2010.0, 2012.0]          <=2    Automatic   9440.0\n",
       "13  (2010.0, 2012.0]          <=2       Manual   7490.0\n",
       "14  (2010.0, 2012.0]          <=2    Semi-Auto      NaN\n",
       "15  (2010.0, 2012.0]           >2    Automatic  12245.0\n",
       "16  (2010.0, 2012.0]           >2       Manual      NaN\n",
       "17  (2010.0, 2012.0]           >2    Semi-Auto      NaN\n",
       "18  (2012.0, 2014.0]        <=1.5    Automatic  14972.5\n",
       "19  (2012.0, 2014.0]        <=1.5       Manual      NaN\n",
       "20  (2012.0, 2014.0]        <=1.5    Semi-Auto      NaN\n",
       "21  (2012.0, 2014.0]          <=2    Automatic  11499.0\n",
       "22  (2012.0, 2014.0]          <=2       Manual   9940.0\n",
       "23  (2012.0, 2014.0]          <=2    Semi-Auto  12655.5\n",
       "24  (2012.0, 2014.0]           >2    Automatic  16990.0\n",
       "25  (2012.0, 2014.0]           >2       Manual  13898.5\n",
       "26  (2012.0, 2014.0]           >2    Semi-Auto  15991.0\n",
       "27  (2014.0, 2016.0]        <=1.5    Automatic  14285.0\n",
       "28  (2014.0, 2016.0]        <=1.5       Manual  11000.5\n",
       "29  (2014.0, 2016.0]        <=1.5    Semi-Auto  14107.5\n",
       "30  (2014.0, 2016.0]          <=2    Automatic  14985.0\n",
       "31  (2014.0, 2016.0]          <=2       Manual  12999.0\n",
       "32  (2014.0, 2016.0]          <=2    Semi-Auto  16990.0\n",
       "33  (2014.0, 2016.0]           >2    Automatic  19245.0\n",
       "34  (2014.0, 2016.0]           >2       Manual  17480.0\n",
       "35  (2014.0, 2016.0]           >2    Semi-Auto  19898.0\n",
       "36  (2016.0, 2018.0]        <=1.5    Automatic  16449.5\n",
       "37  (2016.0, 2018.0]        <=1.5       Manual  13980.0\n",
       "38  (2016.0, 2018.0]        <=1.5    Semi-Auto  16480.0\n",
       "39  (2016.0, 2018.0]          <=2    Automatic  18690.0\n",
       "40  (2016.0, 2018.0]          <=2       Manual  15400.0\n",
       "41  (2016.0, 2018.0]          <=2    Semi-Auto  19995.0\n",
       "42  (2016.0, 2018.0]           >2    Automatic  24686.0\n",
       "43  (2016.0, 2018.0]           >2       Manual  20491.0\n",
       "44  (2016.0, 2018.0]           >2    Semi-Auto  24495.0\n",
       "45     (2018.0, inf]        <=1.5    Automatic  21450.0\n",
       "46     (2018.0, inf]        <=1.5       Manual  21225.0\n",
       "47     (2018.0, inf]        <=1.5    Semi-Auto  21950.0\n",
       "48     (2018.0, inf]          <=2    Automatic  28850.0\n",
       "49     (2018.0, inf]          <=2       Manual  24775.0\n",
       "50     (2018.0, inf]          <=2    Semi-Auto  27995.0\n",
       "51     (2018.0, inf]           >2    Automatic  44130.5\n",
       "52     (2018.0, inf]           >2       Manual  46000.0\n",
       "53     (2018.0, inf]           >2    Semi-Auto  46991.0"
      ]
     },
     "execution_count": 229,
     "metadata": {},
     "output_type": "execute_result"
    }
   ],
   "source": [
    "model_year_engine_trn_group_median\n"
   ]
  },
  {
   "cell_type": "code",
   "execution_count": 230,
   "metadata": {},
   "outputs": [],
   "source": [
    "model_year_engine_trn_group_median = model_year_engine_trn_group_median.rename({'price' : 'price_pred_year_engine_trn_median'}, axis = 1)\n"
   ]
  },
  {
   "cell_type": "code",
   "execution_count": 231,
   "metadata": {},
   "outputs": [],
   "source": [
    "train = train.merge(model_year_engine_trn_group_median, how = 'left', on = ['year_group','engine_group','transmission'])\n"
   ]
  },
  {
   "cell_type": "markdown",
   "metadata": {},
   "source": [
    "Сравним результат"
   ]
  },
  {
   "cell_type": "code",
   "execution_count": 232,
   "metadata": {},
   "outputs": [
    {
     "name": "stdout",
     "output_type": "stream",
     "text": [
      "3659.774273345702\n",
      "0.1582922021242831\n"
     ]
    }
   ],
   "source": [
    "error(train['price'], train['price_pred_year_engine_median']) # Без группировки по году\n"
   ]
  },
  {
   "cell_type": "code",
   "execution_count": 233,
   "metadata": {},
   "outputs": [
    {
     "name": "stdout",
     "output_type": "stream",
     "text": [
      "3827.4336425479282\n",
      "0.1693848259731495\n"
     ]
    }
   ],
   "source": [
    "error(train['price'], train['pred_price_year_engine_group_median']) #С группировкой по году\n"
   ]
  },
  {
   "cell_type": "code",
   "execution_count": 234,
   "metadata": {},
   "outputs": [
    {
     "name": "stdout",
     "output_type": "stream",
     "text": [
      "3635.5412492269634\n",
      "0.1561691679065392\n"
     ]
    }
   ],
   "source": [
    "error(train['price'], train['price_pred_year_engine_trn_median']) #С группировкой по году и трансмиссии\n"
   ]
  },
  {
   "cell_type": "markdown",
   "metadata": {},
   "source": [
    "Результат немного улучшился"
   ]
  },
  {
   "cell_type": "markdown",
   "metadata": {},
   "source": [
    "Посмотрим результат на test, но для этого нужно с группировать по году"
   ]
  },
  {
   "cell_type": "code",
   "execution_count": 235,
   "metadata": {},
   "outputs": [],
   "source": [
    "test['year_group'] = pd.cut(test['year'], [0, 2010, 2012,2014,2016,2018,float('inf')])\n"
   ]
  },
  {
   "cell_type": "code",
   "execution_count": 236,
   "metadata": {},
   "outputs": [],
   "source": [
    "test = test.merge(model_year_engine_trn_group_median, how = 'left', on = ['year_group','engine_group','transmission'])\n"
   ]
  },
  {
   "cell_type": "code",
   "execution_count": 237,
   "metadata": {},
   "outputs": [
    {
     "data": {
      "text/plain": [
       "model                                0.000000\n",
       "year                                 0.000000\n",
       "price                                0.000000\n",
       "transmission                         0.000000\n",
       "mileage                              0.000000\n",
       "fuelType                             0.000000\n",
       "tax                                  0.000000\n",
       "mpg                                  0.000000\n",
       "engineSize                           0.000000\n",
       "price_pred_median                    0.000000\n",
       "price_pred_year_mean                 0.000000\n",
       "price_pred_year_median               0.000000\n",
       "engine_group                         0.000000\n",
       "price_pred_year_engine_median        0.000742\n",
       "year_group                           0.000000\n",
       "price_pred_year_engine_trn_median    0.001113\n",
       "dtype: float64"
      ]
     },
     "execution_count": 237,
     "metadata": {},
     "output_type": "execute_result"
    }
   ],
   "source": [
    "test.isna().mean()\n"
   ]
  },
  {
   "cell_type": "markdown",
   "metadata": {},
   "source": [
    "Вновь появились пропуски, но их немного, поэтому также удалим их"
   ]
  },
  {
   "cell_type": "code",
   "execution_count": 238,
   "metadata": {},
   "outputs": [],
   "source": [
    "test_no_na = test.dropna().copy()\n"
   ]
  },
  {
   "cell_type": "code",
   "execution_count": 242,
   "metadata": {},
   "outputs": [
    {
     "name": "stdout",
     "output_type": "stream",
     "text": [
      "3790.014291017075\n",
      "0.16270961023342095\n"
     ]
    }
   ],
   "source": [
    "error(test_no_nan['price'], test_no_nan['price_pred_year_engine_median']) #Результат без группировки по трансмиссии\n"
   ]
  },
  {
   "cell_type": "code",
   "execution_count": 243,
   "metadata": {},
   "outputs": [
    {
     "name": "stdout",
     "output_type": "stream",
     "text": [
      "3777.5172798216277\n",
      "0.16037327734163415\n"
     ]
    }
   ],
   "source": [
    "error(test_no_na['price'], test_no_na['price_pred_year_engine_trn_median']) #Результат с группировкой по трансмиссии\n"
   ]
  },
  {
   "cell_type": "markdown",
   "metadata": {},
   "source": [
    "Итоговый результат модели:"
   ]
  },
  {
   "cell_type": "code",
   "execution_count": 244,
   "metadata": {},
   "outputs": [
    {
     "name": "stdout",
     "output_type": "stream",
     "text": [
      "3635.5412492269634\n",
      "0.1561691679065392\n"
     ]
    }
   ],
   "source": [
    "error(train['price'], train['price_pred_year_engine_trn_median'])\n"
   ]
  },
  {
   "cell_type": "code",
   "execution_count": 245,
   "metadata": {},
   "outputs": [
    {
     "name": "stdout",
     "output_type": "stream",
     "text": [
      "3777.5172798216277\n",
      "0.16037327734163415\n"
     ]
    }
   ],
   "source": [
    "error(test_no_na['price'], test_no_na['price_pred_year_engine_trn_median'])\n"
   ]
  }
 ],
 "metadata": {
  "kernelspec": {
   "display_name": "base",
   "language": "python",
   "name": "python3"
  },
  "language_info": {
   "codemirror_mode": {
    "name": "ipython",
    "version": 3
   },
   "file_extension": ".py",
   "mimetype": "text/x-python",
   "name": "python",
   "nbconvert_exporter": "python",
   "pygments_lexer": "ipython3",
   "version": "3.11.4"
  }
 },
 "nbformat": 4,
 "nbformat_minor": 2
}
